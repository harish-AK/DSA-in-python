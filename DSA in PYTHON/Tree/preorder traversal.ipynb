{
 "cells": [
  {
   "cell_type": "code",
   "execution_count": 2,
   "id": "804d742e",
   "metadata": {},
   "outputs": [
    {
     "name": "stdout",
     "output_type": "stream",
     "text": [
      "[1, 2, 3]\n"
     ]
    }
   ],
   "source": [
    "# Definition for a binary tree node.\n",
    "# order: root, left child, right child.\n",
    "class TreeNode:\n",
    "    def __init__(self, val=0, left=None, right=None):\n",
    "        self.val = val\n",
    "        self.left = left\n",
    "        self.right = right\n",
    "\n",
    "class Solution:\n",
    "    def preorderTraversal(self, root):\n",
    "        ans = []\n",
    "        def preorder(root):\n",
    "            if not root:\n",
    "                return\n",
    "            ans.append(root.val)\n",
    "            preorder(root.left)\n",
    "            preorder(root.right)\n",
    "        preorder(root)\n",
    "        return ans\n",
    "\n",
    "# Create a binary tree for testing\n",
    "# Example:\n",
    "#        1\n",
    "#         \\\n",
    "#          2\n",
    "#         /\n",
    "#        3\n",
    "root = TreeNode(1)\n",
    "root.right = TreeNode(2)\n",
    "root.right.left = TreeNode(3)\n",
    "\n",
    "# Create an instance of the Solution class\n",
    "solution = Solution()\n",
    "\n",
    "# Call the inorderTraversal method with the binary tree root\n",
    "result = solution.preorderTraversal(root)\n",
    "print(result)"
   ]
  },
  {
   "cell_type": "code",
   "execution_count": 6,
   "id": "348c2c48",
   "metadata": {},
   "outputs": [
    {
     "name": "stdout",
     "output_type": "stream",
     "text": [
      "Inorder Traversal: [1, 3, 2]\n"
     ]
    }
   ],
   "source": [
    "# Definition for a binary tree node.\n",
    "class TreeNode:\n",
    "    def __init__(self, val=0, left=None, right=None):\n",
    "        self.val = val\n",
    "        self.left = left\n",
    "        self.right = right\n",
    "\n",
    "class Solution:\n",
    "    def inorderTraversal(self, root):\n",
    "        stack = []\n",
    "        res = []\n",
    "        node = root\n",
    "        while stack or node:\n",
    "            while node:\n",
    "                stack.append(node)\n",
    "                node = node.left\n",
    "            node = stack.pop()\n",
    "            res.append(node.val)\n",
    "            node = node.right\n",
    "        return res\n",
    "\n",
    "# Create a binary tree for testing\n",
    "root = TreeNode(1)\n",
    "root.right = TreeNode(2)\n",
    "root.right.left = TreeNode(3)\n",
    "\n",
    "# Create an instance of the Solution class\n",
    "solution = Solution()\n",
    "\n",
    "# Call the inorderTraversal method with the binary tree root\n",
    "result = solution.inorderTraversal(root)\n",
    "print(\"Inorder Traversal:\", result)"
   ]
  },
  {
   "cell_type": "code",
   "execution_count": null,
   "id": "7891b56d",
   "metadata": {},
   "outputs": [],
   "source": []
  }
 ],
 "metadata": {
  "kernelspec": {
   "display_name": "Python 3 (ipykernel)",
   "language": "python",
   "name": "python3"
  },
  "language_info": {
   "codemirror_mode": {
    "name": "ipython",
    "version": 3
   },
   "file_extension": ".py",
   "mimetype": "text/x-python",
   "name": "python",
   "nbconvert_exporter": "python",
   "pygments_lexer": "ipython3",
   "version": "3.11.5"
  }
 },
 "nbformat": 4,
 "nbformat_minor": 5
}
