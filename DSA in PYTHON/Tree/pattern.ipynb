{
 "cells": [
  {
   "cell_type": "code",
   "execution_count": 3,
   "id": "89f65a93",
   "metadata": {},
   "outputs": [
    {
     "name": "stdout",
     "output_type": "stream",
     "text": [
      "11111\n",
      "10001\n",
      "10001\n",
      "10001\n",
      "11111\n"
     ]
    }
   ],
   "source": [
    "# 11111\n",
    "# 10001\n",
    "# 10001\n",
    "# 10001\n",
    "# 11111\n",
    "\n",
    "for i in range(5):\n",
    "    if i == 0 or i == 4:\n",
    "        print('11111')\n",
    "    else:\n",
    "        print('10001')"
   ]
  },
  {
   "cell_type": "code",
   "execution_count": 17,
   "id": "c12d23dc",
   "metadata": {},
   "outputs": [
    {
     "name": "stdout",
     "output_type": "stream",
     "text": [
      "1 \n",
      "2 2 \n",
      "3 3 3 \n",
      "4 4 4 4 \n",
      "3 3 3 \n",
      "2 2 \n",
      "1 \n",
      "\n"
     ]
    }
   ],
   "source": [
    "# 1\n",
    "# 22\n",
    "# 333\n",
    "# 4444\n",
    "# 333\n",
    "# 22\n",
    "# 1\n",
    "\n",
    "for i in range(1,5):\n",
    "    for j in range(1, i + 1):\n",
    "            print(i, end=\" \")\n",
    "    print()\n",
    "for i in range(3,-1,-1): # start stop, step\n",
    "    for j in range(1, i + 1):\n",
    "            print(i, end=\" \")\n",
    "    print()\n"
   ]
  },
  {
   "cell_type": "code",
   "execution_count": 24,
   "id": "5b30c82d",
   "metadata": {},
   "outputs": [
    {
     "data": {
      "text/plain": [
       "120"
      ]
     },
     "execution_count": 24,
     "metadata": {},
     "output_type": "execute_result"
    }
   ],
   "source": [
    "# factorial of given number using recursive function\n",
    "def fac(n):\n",
    "    if n == 1:\n",
    "        return 1\n",
    "    else:\n",
    "        return n*fac((n-1))\n",
    "fac(5)\n"
   ]
  },
  {
   "cell_type": "code",
   "execution_count": 22,
   "id": "2e94e368",
   "metadata": {},
   "outputs": [
    {
     "name": "stdout",
     "output_type": "stream",
     "text": [
      "1 1 2 3 5 8 13 21 "
     ]
    }
   ],
   "source": [
    "# fibanacci series\n",
    "\n",
    "def fib(n, prev1, prev2):\n",
    "    if n < 3:\n",
    "        return\n",
    "    fn = prev1 + prev2\n",
    "    prev2 = prev1\n",
    "    prev1 = fn\n",
    "    print(fn, end=\" \")\n",
    "    fib(n - 1, prev1, prev2)\n",
    "fib(10,0,1)"
   ]
  },
  {
   "cell_type": "code",
   "execution_count": null,
   "id": "66db7df6",
   "metadata": {},
   "outputs": [],
   "source": []
  }
 ],
 "metadata": {
  "kernelspec": {
   "display_name": "Python 3 (ipykernel)",
   "language": "python",
   "name": "python3"
  },
  "language_info": {
   "codemirror_mode": {
    "name": "ipython",
    "version": 3
   },
   "file_extension": ".py",
   "mimetype": "text/x-python",
   "name": "python",
   "nbconvert_exporter": "python",
   "pygments_lexer": "ipython3",
   "version": "3.11.5"
  }
 },
 "nbformat": 4,
 "nbformat_minor": 5
}
