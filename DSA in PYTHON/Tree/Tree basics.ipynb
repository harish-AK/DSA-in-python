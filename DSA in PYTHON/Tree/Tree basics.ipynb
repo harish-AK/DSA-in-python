{
 "cells": [
  {
   "cell_type": "code",
   "execution_count": 1,
   "id": "ac2897ce",
   "metadata": {},
   "outputs": [],
   "source": [
    "class tree:\n",
    "    def __init__(self,val,left=None,right=None):\n",
    "        self.left = left\n",
    "        self.right = right\n",
    "        self.val = val\n",
    "    \n",
    "    def __str__(self):\n",
    "        return (str(self.val))"
   ]
  },
  {
   "cell_type": "code",
   "execution_count": 2,
   "id": "b3b0d2f2",
   "metadata": {},
   "outputs": [],
   "source": [
    "#        1\n",
    "#     2    3\n",
    "#   4  5  10    "
   ]
  },
  {
   "cell_type": "code",
   "execution_count": 3,
   "id": "4f0a05f1",
   "metadata": {},
   "outputs": [],
   "source": [
    "A = tree(1)\n",
    "B = tree(2)\n",
    "C = tree(3)\n",
    "D = tree(4)\n",
    "E = tree(5)\n",
    "F = tree(10)"
   ]
  },
  {
   "cell_type": "code",
   "execution_count": 4,
   "id": "46cea3bb",
   "metadata": {},
   "outputs": [],
   "source": [
    "A.left = B\n",
    "A.right = C\n",
    "B.left = D\n",
    "B.right = E\n",
    "C.left = F"
   ]
  },
  {
   "cell_type": "code",
   "execution_count": 5,
   "id": "7b9e2c05",
   "metadata": {},
   "outputs": [
    {
     "name": "stdout",
     "output_type": "stream",
     "text": [
      "1\n"
     ]
    }
   ],
   "source": [
    "print(A)"
   ]
  },
  {
   "cell_type": "code",
   "execution_count": 6,
   "id": "3e1c8748",
   "metadata": {},
   "outputs": [
    {
     "name": "stdout",
     "output_type": "stream",
     "text": [
      "1\n",
      "2\n",
      "4\n",
      "5\n",
      "3\n",
      "10\n"
     ]
    }
   ],
   "source": [
    "# DFS - recursive preorder -> node,left,right\n",
    "def preorder(node):\n",
    "    if not node:\n",
    "        return \n",
    "    print(node)\n",
    "    preorder(node.left)\n",
    "    preorder(node.right)\n",
    "preorder(A)"
   ]
  },
  {
   "cell_type": "code",
   "execution_count": 7,
   "id": "b14daa89",
   "metadata": {},
   "outputs": [
    {
     "name": "stdout",
     "output_type": "stream",
     "text": [
      "4\n",
      "2\n",
      "5\n",
      "1\n",
      "10\n",
      "3\n"
     ]
    }
   ],
   "source": [
    "# DFS - recursive inorder -> left,node,right\n",
    "def inorder(node):\n",
    "    if not node:\n",
    "        return\n",
    "    inorder(node.left)\n",
    "    print(node)\n",
    "    inorder(node.right)\n",
    "inorder(A)"
   ]
  },
  {
   "cell_type": "code",
   "execution_count": 8,
   "id": "3a493f43",
   "metadata": {},
   "outputs": [
    {
     "name": "stdout",
     "output_type": "stream",
     "text": [
      "4\n",
      "5\n",
      "2\n",
      "10\n",
      "3\n",
      "1\n"
     ]
    }
   ],
   "source": [
    "# DFS - recursive postorder -> left,right,root\n",
    "def postorder(node):\n",
    "    if not node:\n",
    "        return \n",
    "    postorder(node.left)\n",
    "    postorder(node.right)\n",
    "    print(node)\n",
    "postorder(A)"
   ]
  },
  {
   "cell_type": "code",
   "execution_count": 9,
   "id": "a45c724e",
   "metadata": {},
   "outputs": [
    {
     "name": "stdout",
     "output_type": "stream",
     "text": [
      "1\n",
      "2\n",
      "4\n",
      "5\n",
      "3\n",
      "10\n"
     ]
    }
   ],
   "source": [
    "# iterative approach\n",
    "def pre(node):\n",
    "    stk =[node]\n",
    "    while stk:\n",
    "        node = stk.pop()\n",
    "        if node.right:\n",
    "            stk.append(node.right)\n",
    "        if node.left:\n",
    "            stk.append(node.left)\n",
    "        print(node)\n",
    "pre(A)"
   ]
  },
  {
   "cell_type": "code",
   "execution_count": 10,
   "id": "7dc6df97",
   "metadata": {},
   "outputs": [
    {
     "name": "stdout",
     "output_type": "stream",
     "text": [
      "1\n",
      "2\n",
      "3\n",
      "4\n",
      "5\n",
      "10\n"
     ]
    }
   ],
   "source": [
    "# BFS - level order traversal,\n",
    "from collections import deque\n",
    "def level(node):\n",
    "    q = deque()\n",
    "    q.append(node)\n",
    "    while q:\n",
    "        node = q.popleft()\n",
    "        print(node)\n",
    "        if node.left:\n",
    "            q.append(node.left)\n",
    "        if node.right:\n",
    "            q.append(node.right)\n",
    "level(A)"
   ]
  },
  {
   "cell_type": "code",
   "execution_count": 11,
   "id": "aa02b9bc",
   "metadata": {},
   "outputs": [
    {
     "data": {
      "text/plain": [
       "True"
      ]
     },
     "execution_count": 11,
     "metadata": {},
     "output_type": "execute_result"
    }
   ],
   "source": [
    "# DFS - find a node\n",
    "def search(node,tar):\n",
    "    if not node:\n",
    "        \n",
    "        return False\n",
    "    \n",
    "    if node.val == tar:\n",
    "        return True\n",
    "    \n",
    "    return search(node.left,tar) or search(node.right,tar)\n",
    "search(A,1)"
   ]
  },
  {
   "cell_type": "code",
   "execution_count": 12,
   "id": "7da29e88",
   "metadata": {},
   "outputs": [],
   "source": [
    "#       5\n",
    "#    1    8\n",
    "#  -1 3  7 9\n",
    "# Binary search tree\n",
    "\n",
    "A2 = tree(5)\n",
    "B2 = tree(1)\n",
    "C2 = tree(8)\n",
    "D2 = tree(-1)\n",
    "E2 = tree(3)\n",
    "F2 = tree(7)\n",
    "G2 = tree(9)\n",
    "\n",
    "A2.left, A2.right = B2, C2\n",
    "B2.left, B2.right = D2, E2\n",
    "C2.left, C2.right = F2, G2"
   ]
  },
  {
   "cell_type": "code",
   "execution_count": 14,
   "id": "fecdbb4a",
   "metadata": {},
   "outputs": [
    {
     "name": "stdout",
     "output_type": "stream",
     "text": [
      "-1\n",
      "1\n",
      "3\n",
      "5\n",
      "7\n",
      "8\n",
      "9\n"
     ]
    }
   ],
   "source": [
    "inorder(A2)"
   ]
  },
  {
   "cell_type": "code",
   "execution_count": 16,
   "id": "b055a31d",
   "metadata": {},
   "outputs": [
    {
     "data": {
      "text/plain": [
       "True"
      ]
     },
     "execution_count": 16,
     "metadata": {},
     "output_type": "execute_result"
    }
   ],
   "source": [
    "def searchbst(node,tar):\n",
    "    if not node:\n",
    "        return \n",
    "    if node.val == tar:\n",
    "        return True\n",
    "    if node.val < tar:\n",
    "        return searchbst(node.right,tar)\n",
    "    else:\n",
    "        return searchbst(node.left,tar)\n",
    "searchbst(A2,-1)"
   ]
  },
  {
   "cell_type": "code",
   "execution_count": null,
   "id": "c5551554",
   "metadata": {},
   "outputs": [],
   "source": []
  },
  {
   "cell_type": "code",
   "execution_count": null,
   "id": "9b69c1fc",
   "metadata": {},
   "outputs": [],
   "source": []
  }
 ],
 "metadata": {
  "kernelspec": {
   "display_name": "Python 3 (ipykernel)",
   "language": "python",
   "name": "python3"
  },
  "language_info": {
   "codemirror_mode": {
    "name": "ipython",
    "version": 3
   },
   "file_extension": ".py",
   "mimetype": "text/x-python",
   "name": "python",
   "nbconvert_exporter": "python",
   "pygments_lexer": "ipython3",
   "version": "3.11.5"
  }
 },
 "nbformat": 4,
 "nbformat_minor": 5
}
