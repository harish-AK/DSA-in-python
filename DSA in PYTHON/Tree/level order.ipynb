{
 "cells": [
  {
   "cell_type": "code",
   "execution_count": 3,
   "id": "c0c7bd0d",
   "metadata": {},
   "outputs": [
    {
     "name": "stdout",
     "output_type": "stream",
     "text": [
      "[9, 3, 15, 20, 7]\n"
     ]
    }
   ],
   "source": [
    "class TreeNode:\n",
    "    def __init__(self, val=0, left=None, right=None):\n",
    "        self.val = val\n",
    "        self.left = left\n",
    "        self.right = right\n",
    "\n",
    "class Solution:\n",
    "    def levelorderTraversal(self, root):\n",
    "        ans = []\n",
    "        def levelorder(root):\n",
    "            if not root:\n",
    "                return\n",
    "            levelorder(root.left)\n",
    "            ans.append(root.val)\n",
    "            levelorder(root.right)\n",
    "        levelorder(root)\n",
    "        return ans\n",
    "\n",
    "# Create a binary tree for testing\n",
    "# Example:\n",
    "#        3\n",
    "#      /   \\\n",
    "#     9     20\n",
    "#         /   \\\n",
    "#        15    7\n",
    "root = TreeNode(3)\n",
    "root.right = TreeNode(20)\n",
    "root.left = TreeNode(9)\n",
    "root.right.left = TreeNode(15)\n",
    "root.right.right = TreeNode(7)\n",
    "\n",
    "# Create an instance of the Solution class\n",
    "solution = Solution()\n",
    "\n",
    "# Call the inorderTraversal method with the binary tree root\n",
    "result = solution.levelorderTraversal(root)\n",
    "print(result)\n"
   ]
  },
  {
   "cell_type": "code",
   "execution_count": 6,
   "id": "fdad6309",
   "metadata": {},
   "outputs": [
    {
     "name": "stdout",
     "output_type": "stream",
     "text": [
      "[[3], [9, 20], [15, 7]]\n"
     ]
    }
   ],
   "source": [
    "# Definition for a binary tree node.\n",
    "class TreeNode:\n",
    "    def __init__(self, val=0, left=None, right=None):\n",
    "        self.val = val\n",
    "        self.left = left\n",
    "        self.right = right\n",
    "\n",
    "class Solution:\n",
    "    def levelorderTraversal(self, root):\n",
    "        if not root:\n",
    "            return []\n",
    "        \n",
    "        q = [root]\n",
    "        res = []\n",
    "        \n",
    "        while q:\n",
    "            row = []\n",
    "            l = len(q)\n",
    "            for i in range(l):\n",
    "                curr = q.pop(0)\n",
    "                row.append(curr.val)\n",
    "                if curr.left:\n",
    "                    q.append(curr.left)\n",
    "                if curr.right:\n",
    "                    q.append(curr.right)\n",
    "            res.append(row)\n",
    "        return res\n",
    "\n",
    "# Create a binary tree for testing\n",
    "# Example:\n",
    "#        3\n",
    "#      /   \\\n",
    "#     9     20\n",
    "#         /   \\\n",
    "#        15    7\n",
    "\n",
    "root = TreeNode(3)\n",
    "root.right = TreeNode(20)\n",
    "root.left = TreeNode(9)\n",
    "root.right.left = TreeNode(15)\n",
    "root.right.right = TreeNode(7)\n",
    "\n",
    "# Create an instance of the Solution class\n",
    "solution = Solution()\n",
    "\n",
    "# Call the levelorderTraversal method with the binary tree root\n",
    "result = solution.levelorderTraversal(root)\n",
    "print(result)"
   ]
  },
  {
   "cell_type": "code",
   "execution_count": null,
   "id": "1c32b593",
   "metadata": {},
   "outputs": [],
   "source": []
  }
 ],
 "metadata": {
  "kernelspec": {
   "display_name": "Python 3 (ipykernel)",
   "language": "python",
   "name": "python3"
  },
  "language_info": {
   "codemirror_mode": {
    "name": "ipython",
    "version": 3
   },
   "file_extension": ".py",
   "mimetype": "text/x-python",
   "name": "python",
   "nbconvert_exporter": "python",
   "pygments_lexer": "ipython3",
   "version": "3.11.5"
  }
 },
 "nbformat": 4,
 "nbformat_minor": 5
}
