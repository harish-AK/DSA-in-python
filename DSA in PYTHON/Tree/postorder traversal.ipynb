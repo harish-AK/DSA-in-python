{
 "cells": [
  {
   "cell_type": "code",
   "execution_count": 2,
   "id": "98967cdf",
   "metadata": {},
   "outputs": [
    {
     "name": "stdout",
     "output_type": "stream",
     "text": [
      "[3, 2, 1]\n"
     ]
    }
   ],
   "source": [
    "# order: left child, right child, root.\n",
    "# Definition for a binary tree node.\n",
    "# order: left child, root, right child\n",
    "class TreeNode:\n",
    "    def __init__(self, val=0, left=None, right=None):\n",
    "        self.val = val\n",
    "        self.left = left\n",
    "        self.right = right\n",
    "\n",
    "class Solution:\n",
    "    def postorderTraversal(self, root):\n",
    "        ans = []\n",
    "        def postorder(root):\n",
    "            if not root:\n",
    "                return\n",
    "            postorder(root.left)\n",
    "            postorder(root.right)\n",
    "            ans.append(root.val)\n",
    "            \n",
    "        postorder(root)\n",
    "        return ans\n",
    "\n",
    "# Create a binary tree for testing\n",
    "# Example:\n",
    "#        1\n",
    "#         \\\n",
    "#          2\n",
    "#         /\n",
    "#        3\n",
    "root = TreeNode(1)\n",
    "root.right = TreeNode(2)\n",
    "root.right.left = TreeNode(3)\n",
    "\n",
    "# Create an instance of the Solution class\n",
    "solution = Solution()\n",
    "\n",
    "# Call the inorderTraversal method with the binary tree root\n",
    "result = solution.postorderTraversal(root)\n",
    "print(result)\n"
   ]
  },
  {
   "cell_type": "code",
   "execution_count": 3,
   "id": "f1619360",
   "metadata": {},
   "outputs": [
    {
     "name": "stdout",
     "output_type": "stream",
     "text": [
      "Postorder Traversal: [3, 2, 1]\n"
     ]
    }
   ],
   "source": [
    "# Definition for a binary tree node.\n",
    "class TreeNode:\n",
    "    def __init__(self, val=0, left=None, right=None):\n",
    "        self.val = val\n",
    "        self.left = left\n",
    "        self.right = right\n",
    "\n",
    "class Solution:\n",
    "    def postorderTraversal(self, root):\n",
    "        stack = []\n",
    "        res = []\n",
    "        node = root\n",
    "        while stack or node:\n",
    "            while node:\n",
    "                if node.right:\n",
    "                    stack.append(node.right)\n",
    "                stack.append(node)\n",
    "                node = node.left\n",
    "            node = stack.pop()\n",
    "            if stack and node.right == stack[-1]:\n",
    "                stack[-1] = node\n",
    "                node = node.right\n",
    "            else:\n",
    "                res.append(node.val)\n",
    "                node = None\n",
    "        return res\n",
    "\n",
    "# Create a binary tree for testing\n",
    "root = TreeNode(1)\n",
    "root.right = TreeNode(2)\n",
    "root.right.left = TreeNode(3)\n",
    "\n",
    "# Create an instance of the Solution class\n",
    "solution = Solution()\n",
    "\n",
    "# Call the postorderTraversal method with the binary tree root\n",
    "result = solution.postorderTraversal(root)\n",
    "print(\"Postorder Traversal:\", result)"
   ]
  },
  {
   "cell_type": "code",
   "execution_count": null,
   "id": "5648824a",
   "metadata": {},
   "outputs": [],
   "source": []
  }
 ],
 "metadata": {
  "kernelspec": {
   "display_name": "Python 3 (ipykernel)",
   "language": "python",
   "name": "python3"
  },
  "language_info": {
   "codemirror_mode": {
    "name": "ipython",
    "version": 3
   },
   "file_extension": ".py",
   "mimetype": "text/x-python",
   "name": "python",
   "nbconvert_exporter": "python",
   "pygments_lexer": "ipython3",
   "version": "3.11.5"
  }
 },
 "nbformat": 4,
 "nbformat_minor": 5
}
