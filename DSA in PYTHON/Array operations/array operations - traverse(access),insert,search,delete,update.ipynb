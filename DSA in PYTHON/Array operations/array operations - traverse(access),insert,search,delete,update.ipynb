{
 "cells": [
  {
   "cell_type": "markdown",
   "id": "b25404ea-7758-4058-b578-5859517fdfed",
   "metadata": {},
   "source": [
    "TRAVERSE (ACCESS)"
   ]
  },
  {
   "cell_type": "code",
   "execution_count": 12,
   "id": "7f19bb00-92ea-4d56-9357-b401c90bd6b1",
   "metadata": {},
   "outputs": [
    {
     "name": "stdout",
     "output_type": "stream",
     "text": [
      "<class 'array.array'>\n",
      "<class 'list'>\n",
      "position  0  value is  1\n",
      "position  1  value is  2\n",
      "position  2  value is  3\n",
      "position  3  value is  4\n",
      "position  4  value is  5\n"
     ]
    }
   ],
   "source": [
    "# traverse\n",
    "from array import array as ar\n",
    "a=ar('i',[1,2,3,4,5])\n",
    "b=[12,3,45]\n",
    "print(type(a))\n",
    "print(type(b))\n",
    "a=ar('i',[1,2,3,4,5])\n",
    "for i in range(len(a)):\n",
    "    print(\"position \",i,\" value is \",a[i])"
   ]
  },
  {
   "cell_type": "markdown",
   "id": "658094bb-8b77-4346-a3bf-8d435112f79e",
   "metadata": {},
   "source": [
    "INSERTION"
   ]
  },
  {
   "cell_type": "code",
   "execution_count": 27,
   "id": "6b80a1ab-f5d1-4e99-8241-edae8fa3bb13",
   "metadata": {},
   "outputs": [
    {
     "name": "stdout",
     "output_type": "stream",
     "text": [
      "1\n",
      "1000\n",
      "3\n",
      "4\n",
      "5\n",
      "0\n"
     ]
    }
   ],
   "source": [
    "# insertion\n",
    "a=ar('i',[1,2,3,4,5])\n",
    "pos=2 # at value 3\n",
    "val=1000\n",
    "a.append(0)\n",
    "for i in range(len(a)-1,pos-1):\n",
    "    a[i]=a[i-1]\n",
    "a[pos-1]=val\n",
    "for i in a:\n",
    "    print(i)"
   ]
  },
  {
   "cell_type": "markdown",
   "id": "d606b6b1-5267-49ab-b187-80415d000567",
   "metadata": {},
   "source": [
    "DELETION\n"
   ]
  },
  {
   "cell_type": "code",
   "execution_count": 35,
   "id": "93c753c8-7324-4a8f-8ca3-de975d16f452",
   "metadata": {},
   "outputs": [
    {
     "name": "stdout",
     "output_type": "stream",
     "text": [
      "1\n",
      "2\n",
      "3\n",
      "5\n"
     ]
    }
   ],
   "source": [
    "# deletion\n",
    "a=ar('i',[1,2,3,4,5])\n",
    "n=len(a)\n",
    "d=4\n",
    "for i in range(n):\n",
    "    if a[i]==d:\n",
    "        a[i]=a[i+1]\n",
    "    else:\n",
    "        pass\n",
    "n=n-1\n",
    "for j in range(n):\n",
    "    print(a[j])\n",
    "    \n",
    "        "
   ]
  },
  {
   "cell_type": "markdown",
   "id": "eb9a28d5-c8c5-403d-9a2b-73078369c5bd",
   "metadata": {},
   "source": [
    "SEARCH"
   ]
  },
  {
   "cell_type": "code",
   "execution_count": 40,
   "id": "3f2bebf4-71a2-4755-a671-894dc62f96b4",
   "metadata": {},
   "outputs": [
    {
     "name": "stdout",
     "output_type": "stream",
     "text": [
      "pos  2 value  3\n"
     ]
    }
   ],
   "source": [
    "# search\n",
    "a=ar('i',[1,2,3,4,5])\n",
    "f=3\n",
    "i=0\n",
    "while(len(a)>0):\n",
    "    if a[i]==f:\n",
    "        print(\"pos \",i,\"value \",a[i])\n",
    "        break\n",
    "    i=i+1\n",
    "else:\n",
    "    pass"
   ]
  },
  {
   "cell_type": "markdown",
   "id": "d2ebbd5d-db93-466b-bd87-03c47c370da8",
   "metadata": {},
   "source": [
    "UPDATION"
   ]
  },
  {
   "cell_type": "code",
   "execution_count": 43,
   "id": "e110b4b2-edd6-4018-9100-5b02eea642a5",
   "metadata": {},
   "outputs": [
    {
     "name": "stdout",
     "output_type": "stream",
     "text": [
      "array('i', [1, 2, 3, 1000, 5])\n"
     ]
    }
   ],
   "source": [
    "# updation\n",
    "a=ar('i',[1,2,3,4,5])\n",
    "pos=3\n",
    "val=1000\n",
    "a[pos]=val\n",
    "print(a)"
   ]
  },
  {
   "cell_type": "markdown",
   "id": "8c34c4dd-5500-4d63-914b-8b38614a51a3",
   "metadata": {},
   "source": [
    "2D ARRAY "
   ]
  },
  {
   "cell_type": "code",
   "execution_count": 3,
   "id": "64a7c2f7-1b5a-4895-81dc-ca71c87e139b",
   "metadata": {},
   "outputs": [
    {
     "name": "stdout",
     "output_type": "stream",
     "text": [
      "[1, 2, 3]\n",
      "[4, 5, 6]\n",
      "[7, 8, 9]\n",
      "123456789"
     ]
    }
   ],
   "source": [
    "# 2D array\n",
    "a=[[1,2,3],\n",
    "   [4,5,6],\n",
    "   [7,8,9]]\n",
    "for i in a:\n",
    "    print(i)\n",
    "for r in a:\n",
    "    for q in r:\n",
    "        print(q,end='')"
   ]
  },
  {
   "cell_type": "code",
   "execution_count": null,
   "id": "ccdc6e59-d78c-42f1-81ed-203f35870796",
   "metadata": {},
   "outputs": [],
   "source": []
  },
  {
   "cell_type": "code",
   "execution_count": null,
   "id": "1cdf5895-3846-4d01-a748-0e3d33627d92",
   "metadata": {},
   "outputs": [],
   "source": []
  }
 ],
 "metadata": {
  "kernelspec": {
   "display_name": "Python 3 (ipykernel)",
   "language": "python",
   "name": "python3"
  },
  "language_info": {
   "codemirror_mode": {
    "name": "ipython",
    "version": 3
   },
   "file_extension": ".py",
   "mimetype": "text/x-python",
   "name": "python",
   "nbconvert_exporter": "python",
   "pygments_lexer": "ipython3",
   "version": "3.11.5"
  }
 },
 "nbformat": 4,
 "nbformat_minor": 5
}
