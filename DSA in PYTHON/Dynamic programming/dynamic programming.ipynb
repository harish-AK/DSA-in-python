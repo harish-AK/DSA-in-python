{
 "cells": [
  {
   "cell_type": "code",
   "execution_count": 5,
   "id": "8250c95e",
   "metadata": {},
   "outputs": [
    {
     "name": "stdout",
     "output_type": "stream",
     "text": [
      "34\n"
     ]
    }
   ],
   "source": [
    "# 1D \n",
    "# Fibonacci Series using Dynamic Programming\n",
    "def fibonacci(n):\n",
    "    f = [0, 1]\n",
    "    for i in range(2, n+1):\n",
    "        f.append((f[i-1] + f[i-2]))\n",
    "    return f[n]\n",
    "print(fibonacci(9))"
   ]
  },
  {
   "cell_type": "code",
   "execution_count": null,
   "id": "921f893a",
   "metadata": {},
   "outputs": [],
   "source": [
    "# Longest increasing subsequence\n"
   ]
  },
  {
   "cell_type": "code",
   "execution_count": 1,
   "id": "3f9d243a",
   "metadata": {},
   "outputs": [
    {
     "name": "stdout",
     "output_type": "stream",
     "text": [
      "[[0, 0, 0, 0, 0, 0], [0, 0, 0, 0, 0, 0], [0, 0, 0, 0, 0, 0], [0, 0, 0, 0, 0, 0]]\n",
      "3\n"
     ]
    }
   ],
   "source": [
    "# longest common subsequence\n",
    "text1 = \"abcde\"\n",
    "text2 = \"ace\"\n",
    "\n",
    "dp = [[0] * (len(text1) + 1) for _ in range(len(text2) + 1)]\n",
    "print(dp)\n",
    "# Populate the dynamic programming table\n",
    "for i in range(len(text2) - 1, -1, -1):\n",
    "    for j in range(len(text1) - 1, -1, -1):\n",
    "        if text1[j] == text2[i]:\n",
    "            dp[i][j] = 1 + dp[i + 1][j + 1]\n",
    "        else:\n",
    "            dp[i][j] = max(dp[i][j + 1], dp[i + 1][j])\n",
    "\n",
    "# The length of the longest common subsequence is at the top-left corner of the dp table\n",
    "print(dp[0][0])"
   ]
  },
  {
   "cell_type": "code",
   "execution_count": 1,
   "id": "963bd750",
   "metadata": {},
   "outputs": [
    {
     "data": {
      "text/plain": [
       "4"
      ]
     },
     "execution_count": 1,
     "metadata": {},
     "output_type": "execute_result"
    }
   ],
   "source": [
    "# longest increasing subsequence\n",
    "nums = [10,9,2,5,3,7,101,18] # longest increasing subsequence is 2,3,7,101\n",
    "lis = [1]*len(nums) \n",
    "for i in range(len(nums)-1,-1,-1): \n",
    "    for j in range(i+1,len(nums)):\n",
    "        if nums[i] < nums[j]:\n",
    "            lis[i] = max(lis[i],1+lis[j])\n",
    "max(lis)"
   ]
  },
  {
   "cell_type": "code",
   "execution_count": 2,
   "id": "1bf6c2f7",
   "metadata": {},
   "outputs": [
    {
     "name": "stdout",
     "output_type": "stream",
     "text": [
      "[[3, 3, 4, 5], [3, 2, 3, 4], [2, 2, 2, 3], [3, 2, 1, 2], [3, 2, 1, 1], [3, 2, 1, 0]] 3\n"
     ]
    }
   ],
   "source": [
    "# edit distance\n",
    "word1 = \"horse\"\n",
    "word2 = \"ros\"\n",
    "cache = [[float(\"inf\")] * (len(word2) + 1) for i in range(len(word1) + 1)]\n",
    "for j in range(len(word2) + 1):\n",
    "    cache[len (word1)][j] = len(word2) - j\n",
    "for i in range(len(word1) + 1):\n",
    "    cache[i][len (word2)] = len(word1) - i\n",
    "for i in range(len(word1) - 1, -1, -1):\n",
    "    for j in range(len(word2) - 1, -1, -1):\n",
    "        if word1[i] == word2[j]:\n",
    "            cache[i][j] = cache[i + 1][j + 1]\n",
    "        else:\n",
    "            cache[i][j] = 1 + min(cache[i + 1][j], cache[i][j + 1], cache[i+1][j+1])\n",
    "\n",
    "print(cache,cache[0][0])"
   ]
  },
  {
   "cell_type": "code",
   "execution_count": 10,
   "id": "9c8f7e05",
   "metadata": {},
   "outputs": [
    {
     "name": "stdout",
     "output_type": "stream",
     "text": [
      "Maximum value: values of  weight 2 + weight 3 =  17\n"
     ]
    }
   ],
   "source": [
    "def knapsack(weights, values, capacity):\n",
    "    n = len(weights)\n",
    "    dp = [[0] * (capacity + 1) for _ in range(n + 1)]\n",
    "\n",
    "    for i in range(1, n + 1):\n",
    "        for w in range(1, capacity + 1):\n",
    "            if weights[i - 1] > w:\n",
    "                dp[i][w] = dp[i - 1][w]\n",
    "            else:\n",
    "                dp[i][w] = max(dp[i - 1][w], values[i - 1] + dp[i - 1][w - weights[i - 1]])\n",
    "\n",
    "    return dp[n][capacity]\n",
    "\n",
    "# Example usage\n",
    "weights = [2, 3, 4, 5]\n",
    "values = [10, 7, 6, 8]\n",
    "capacity = 5\n",
    "print(\"Maximum value: values of  weight 2 + weight 3 = \", knapsack(weights, values, capacity))"
   ]
  },
  {
   "cell_type": "code",
   "execution_count": null,
   "id": "b14da129",
   "metadata": {},
   "outputs": [],
   "source": []
  },
  {
   "cell_type": "code",
   "execution_count": null,
   "id": "4184f175",
   "metadata": {},
   "outputs": [],
   "source": []
  }
 ],
 "metadata": {
  "kernelspec": {
   "display_name": "Python 3 (ipykernel)",
   "language": "python",
   "name": "python3"
  },
  "language_info": {
   "codemirror_mode": {
    "name": "ipython",
    "version": 3
   },
   "file_extension": ".py",
   "mimetype": "text/x-python",
   "name": "python",
   "nbconvert_exporter": "python",
   "pygments_lexer": "ipython3",
   "version": "3.11.5"
  }
 },
 "nbformat": 4,
 "nbformat_minor": 5
}
