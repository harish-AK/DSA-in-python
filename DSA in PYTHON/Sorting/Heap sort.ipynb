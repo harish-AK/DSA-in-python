{
 "cells": [
  {
   "cell_type": "markdown",
   "id": "fd07e174-ff31-4b21-ab5e-e44fd981449f",
   "metadata": {},
   "source": [
    "HEAP SORT"
   ]
  },
  {
   "cell_type": "code",
   "execution_count": 1,
   "id": "55873c88-8712-400d-9a38-342ed0fd9bc9",
   "metadata": {},
   "outputs": [
    {
     "name": "stdout",
     "output_type": "stream",
     "text": [
      "heap list  [5, 8, 14, 9, 11, 76, 81, 22]\n",
      "sort list  [5]\n",
      "heap list  [8, 9, 14, 22, 11, 76, 81]\n",
      "sort list  [5, 8]\n",
      "heap list  [9, 11, 14, 22, 81, 76]\n",
      "sort list  [5, 8, 9]\n",
      "heap list  [11, 22, 14, 76, 81]\n",
      "sort list  [5, 8, 9, 11]\n",
      "heap list  [14, 22, 81, 76]\n",
      "sort list  [5, 8, 9, 11, 14]\n",
      "heap list  [22, 76, 81]\n",
      "sort list  [5, 8, 9, 11, 14, 22]\n",
      "heap list  [76, 81]\n",
      "sort list  [5, 8, 9, 11, 14, 22, 76]\n",
      "heap list  [81]\n",
      "sort list  [5, 8, 9, 11, 14, 22, 76, 81]\n"
     ]
    },
    {
     "data": {
      "text/plain": [
       "[5, 8, 9, 11, 14, 22, 76, 81]"
      ]
     },
     "execution_count": 1,
     "metadata": {},
     "output_type": "execute_result"
    }
   ],
   "source": [
    "# heap sort\n",
    "from heapq import heappop, heappush\n",
    "def heap_sort(arr):\n",
    "    heap = []\n",
    "    for ele in arr:\n",
    "        heappush( heap, ele )\n",
    "    sort = []\n",
    "\n",
    "    # popping elements from list heap\n",
    "    while heap:\n",
    "        print(\"heap list \",heap)\n",
    "        sort.append(heappop(heap))\n",
    "        print(\"sort list \",sort)\n",
    "    return sort\n",
    "list=[9,11,14,22,5,76,81,8]\n",
    "heap_sort(list)"
   ]
  },
  {
   "cell_type": "code",
   "execution_count": null,
   "id": "eebca470-47a3-426f-95e4-f6c7e018a290",
   "metadata": {},
   "outputs": [],
   "source": []
  },
  {
   "cell_type": "code",
   "execution_count": null,
   "id": "883c68a9-73d3-48bb-9d5a-591d1593c220",
   "metadata": {},
   "outputs": [],
   "source": []
  }
 ],
 "metadata": {
  "kernelspec": {
   "display_name": "Python 3 (ipykernel)",
   "language": "python",
   "name": "python3"
  },
  "language_info": {
   "codemirror_mode": {
    "name": "ipython",
    "version": 3
   },
   "file_extension": ".py",
   "mimetype": "text/x-python",
   "name": "python",
   "nbconvert_exporter": "python",
   "pygments_lexer": "ipython3",
   "version": "3.11.5"
  }
 },
 "nbformat": 4,
 "nbformat_minor": 5
}
