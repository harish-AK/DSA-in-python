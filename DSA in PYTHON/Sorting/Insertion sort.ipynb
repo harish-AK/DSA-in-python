{
 "cells": [
  {
   "cell_type": "markdown",
   "id": "a9d6cc17-9ca4-418f-a69b-f7777fa76888",
   "metadata": {},
   "source": [
    "INSERTION SORT"
   ]
  },
  {
   "cell_type": "code",
   "execution_count": 1,
   "id": "68ce6761-55b2-405a-baa6-51ab5ac95c4a",
   "metadata": {},
   "outputs": [
    {
     "name": "stdout",
     "output_type": "stream",
     "text": [
      "[2, 15, 51, 60, 70]\n"
     ]
    }
   ],
   "source": [
    "a = [70, 15, 2, 51, 60]  \n",
    "for i in range(1,len(a)):\n",
    "    temp = a[i] # in 1st iteration temp = 15\n",
    "    j = i-1 # in iteration 1, j = 0\n",
    "    while j>=0 and temp <a[j]: # 15 < 70\n",
    "        a[j+1] = a[j] \n",
    "        j = j-1 # j will becomes -1\n",
    "    a[j+1] = temp # here a[j+1] is a[0] because j becomes -1 and comes out of while loop\n",
    "print(a)\n",
    "\n",
    "# Iteration 1:\n",
    "\n",
    "# i = 1, temp = 15, j = 0\n",
    "# While loop condition is true because j >= 0 and temp (15) < a[j] (70).\n",
    "# Move 70 one position to the right to make space for 15: a = [70, 70, 2, 51, 60].\n",
    "# Update j to j - 1 = -1.\n",
    "# The loop ends because j < 0.\n",
    "# Place temp (15) in the correct position: a = [15, 70, 2, 51, 60].\n",
    "\n",
    "# Iteration 2:\n",
    "\n",
    "# i = 2, temp = 2, j = 1\n",
    "# While loop condition is true because j >= 0 and temp (2) < a[j] (70).\n",
    "# Move 70 one position to the right: a = [15, 70, 70, 51, 60].\n",
    "# Update j to j - 1 = 0.\n",
    "# While loop condition is true because j >= 0 and temp (2) < a[j] (15).\n",
    "# Move 15 one position to the right: a = [15, 15, 70, 51, 60].\n",
    "# Update j to j - 1 = -1.\n",
    "# The loop ends because j < 0.\n",
    "# Place temp (2) in the correct position: a = [2, 15, 70, 51, 60].\n",
    "\n",
    "# Iteration 3:\n",
    "\n",
    "# i = 3, temp = 51, j = 2\n",
    "# While loop condition is true because j >= 0 and temp (51) >= a[j] (70).\n",
    "# The loop ends because temp (51) is greater than a[j] (70).\n",
    "# Place temp (51) in the correct position: a = [2, 15, 51, 70, 60].\n",
    "\n",
    "# Iteration 4:\n",
    "\n",
    "# i = 4, temp = 60, j = 3\n",
    "# While loop condition is true because j >= 0 and temp (60) < a[j] (70).\n",
    "# Move 70 one position to the right: a = [2, 15, 51, 70, 70].\n",
    "# Update j to j - 1 = 2.\n",
    "# While loop condition is true because j >= 0 and temp (60) >= a[j] (51).\n",
    "# The loop ends because temp (60) is greater than a[j] (51).\n",
    "# Place temp (60) in the correct position: a = [2, 15, 51, 60, 70].\n",
    "# The final sorted array is [2, 15, 51, 60, 70]."
   ]
  },
  {
   "cell_type": "code",
   "execution_count": 7,
   "id": "7fd9d306-9281-48fb-a303-87ca72db4a25",
   "metadata": {},
   "outputs": [
    {
     "name": "stdout",
     "output_type": "stream",
     "text": [
      "1 2 3 4 "
     ]
    }
   ],
   "source": [
    "a = [1,4,3,2]\n",
    "for i in range(len(a)):\n",
    "    for j in range(0,i+1):\n",
    "        if a[i] < a[j]:\n",
    "            a[i], a[j] = a[j],a[i]\n",
    "for val in a:\n",
    "    print(val,end = \" \")"
   ]
  },
  {
   "cell_type": "code",
   "execution_count": null,
   "id": "8973a184",
   "metadata": {},
   "outputs": [],
   "source": []
  }
 ],
 "metadata": {
  "kernelspec": {
   "display_name": "Python 3 (ipykernel)",
   "language": "python",
   "name": "python3"
  },
  "language_info": {
   "codemirror_mode": {
    "name": "ipython",
    "version": 3
   },
   "file_extension": ".py",
   "mimetype": "text/x-python",
   "name": "python",
   "nbconvert_exporter": "python",
   "pygments_lexer": "ipython3",
   "version": "3.11.5"
  }
 },
 "nbformat": 4,
 "nbformat_minor": 5
}
