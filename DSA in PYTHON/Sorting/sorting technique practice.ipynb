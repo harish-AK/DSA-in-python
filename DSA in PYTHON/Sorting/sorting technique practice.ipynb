{
 "cells": [
  {
   "cell_type": "markdown",
   "id": "a2d19899",
   "metadata": {},
   "source": [
    "# Bubble sort"
   ]
  },
  {
   "cell_type": "code",
   "execution_count": 2,
   "id": "253551a9",
   "metadata": {},
   "outputs": [
    {
     "data": {
      "text/plain": [
       "[-5, -3, -3, 1, 2, 2, 2, 3, 7]"
      ]
     },
     "execution_count": 2,
     "metadata": {},
     "output_type": "execute_result"
    }
   ],
   "source": [
    "A = [-5,3,2,1,-3,-3,7,2,2]\n",
    "def bubble(A):\n",
    "    n = len(A)\n",
    "    flag = True\n",
    "    while flag:\n",
    "        flag = False\n",
    "        for i in range(1,n):\n",
    "            if A[i] < A[i-1]:\n",
    "                flag = True\n",
    "                A[i],A[i-1] = A[i-1],A[i]\n",
    "    return A\n",
    "bubble(A)"
   ]
  },
  {
   "cell_type": "markdown",
   "id": "f863a4ed",
   "metadata": {},
   "source": [
    "# Insertion sort"
   ]
  },
  {
   "cell_type": "code",
   "execution_count": 2,
   "id": "a99be754",
   "metadata": {},
   "outputs": [
    {
     "data": {
      "text/plain": [
       "[-5, -3, -3, 1, 2, 2, 2, 3, 7]"
      ]
     },
     "execution_count": 2,
     "metadata": {},
     "output_type": "execute_result"
    }
   ],
   "source": [
    "A = [-5,3,2,1,-3,-3,7,2,2]\n",
    "def insertion(A):\n",
    "    for i in range(1,len(A)):\n",
    "        for j in range(i,0,-1): # start, stop, step\n",
    "            if A[j] < A[j-1]:\n",
    "                A[j],A[j-1] = A[j-1],A[j]\n",
    "            else:\n",
    "                break\n",
    "    return A\n",
    "insertion(A)"
   ]
  },
  {
   "cell_type": "markdown",
   "id": "1fb13293",
   "metadata": {},
   "source": [
    "# Selection sort"
   ]
  },
  {
   "cell_type": "code",
   "execution_count": 4,
   "id": "49f046d5",
   "metadata": {},
   "outputs": [
    {
     "data": {
      "text/plain": [
       "[-5, -3, -3, 1, 2, 2, 2, 3, 7]"
      ]
     },
     "execution_count": 4,
     "metadata": {},
     "output_type": "execute_result"
    }
   ],
   "source": [
    "A = [-5,3,2,1,-3,-3,7,2,2]\n",
    "\n",
    "def selection(A):    \n",
    "    for i in range(len(A)):\n",
    "        min_idx = i\n",
    "        for j in range(i+1,len(A)):\n",
    "            if A[min_idx] > A[j]:\n",
    "                min_idx = j\n",
    "        A[i], A[min_idx] = A[min_idx], A[i] \n",
    "    return A\n",
    "selection(A)"
   ]
  },
  {
   "cell_type": "markdown",
   "id": "1fb36bf7",
   "metadata": {},
   "source": [
    "# Merge sort"
   ]
  },
  {
   "cell_type": "code",
   "execution_count": 3,
   "id": "2d5bce0c",
   "metadata": {},
   "outputs": [
    {
     "data": {
      "text/plain": [
       "[-5, -3, -3, 1, 2, 2, 2, 3, 7]"
      ]
     },
     "execution_count": 3,
     "metadata": {},
     "output_type": "execute_result"
    }
   ],
   "source": [
    "A = [-5,3,2,1,-3,-3,7,2,2]\n",
    "def merge(A):\n",
    "    n = len(A)\n",
    "    if n == 0 or n == 1:\n",
    "        return A\n",
    "    mid = n//2\n",
    "    L = A[:mid]\n",
    "    R = A[mid:]\n",
    "    \n",
    "    L = merge(L)\n",
    "    R = merge(R)\n",
    "    \n",
    "    # divide process is over \n",
    "    \n",
    "    l,r = 0,0\n",
    "    l_len = len(L)\n",
    "    r_len = len(R)\n",
    "    \n",
    "    sor = [0]*n\n",
    "    i = 0\n",
    "    while l_len > l and r_len > r:\n",
    "        if L[l] < R[r]:\n",
    "            sor[i] = L[l]\n",
    "            l += 1\n",
    "        else:\n",
    "            sor[i] = R[r]\n",
    "            r += 1\n",
    "        i += 1\n",
    "    while l_len > l:\n",
    "        sor[i] = L[l]\n",
    "        l += 1\n",
    "        i += 1\n",
    "    while r_len > r:\n",
    "        sor[i] = R[r]\n",
    "        r += 1\n",
    "        i += 1\n",
    "    return sor\n",
    "merge(A)\n",
    "        "
   ]
  },
  {
   "cell_type": "markdown",
   "id": "af9cde06",
   "metadata": {},
   "source": [
    "# Quick sort"
   ]
  },
  {
   "cell_type": "code",
   "execution_count": 5,
   "id": "df18e247",
   "metadata": {},
   "outputs": [
    {
     "data": {
      "text/plain": [
       "[-5, -3, -3, 1, 2, 2, 2, 3, 7]"
      ]
     },
     "execution_count": 5,
     "metadata": {},
     "output_type": "execute_result"
    }
   ],
   "source": [
    "A = [-5,3,2,1,-3,-3,7,2,2]\n",
    "def quick(A):\n",
    "    if len(A) <= 1:\n",
    "        return A\n",
    "    pivot = A[-1]\n",
    "    L = [i for i in A[:-1] if i <= pivot]\n",
    "    R = [i for i in A[:-1] if i > pivot]\n",
    "    \n",
    "    L = quick(L)\n",
    "    R = quick(R)\n",
    "    \n",
    "    return L + [pivot] + R\n",
    "quick(A)"
   ]
  },
  {
   "cell_type": "markdown",
   "id": "30e6b18f",
   "metadata": {},
   "source": [
    "# Counting sort"
   ]
  },
  {
   "cell_type": "code",
   "execution_count": 3,
   "id": "5f98e5f8",
   "metadata": {},
   "outputs": [
    {
     "data": {
      "text/plain": [
       "[1, 2, 2, 2, 3, 3, 3, 5, 7]"
      ]
     },
     "execution_count": 3,
     "metadata": {},
     "output_type": "execute_result"
    }
   ],
   "source": [
    "def counting(A):\n",
    "    n = len(A)\n",
    "    max_val = max(A)\n",
    "    arr = [0] * (max_val + 1)\n",
    "    \n",
    "    for num in A:\n",
    "        arr[num] += 1\n",
    "    \n",
    "    index = 0\n",
    "    for i in range(len(arr)):\n",
    "        while arr[i] > 0:\n",
    "            A[index] = i\n",
    "            index += 1\n",
    "            arr[i] -= 1\n",
    "    \n",
    "    return A\n",
    "\n",
    "A = [5, 3, 2, 1, 3, 3, 7, 2, 2]\n",
    "counting(A)\n"
   ]
  },
  {
   "cell_type": "code",
   "execution_count": null,
   "id": "2113d919",
   "metadata": {},
   "outputs": [],
   "source": []
  }
 ],
 "metadata": {
  "kernelspec": {
   "display_name": "Python 3 (ipykernel)",
   "language": "python",
   "name": "python3"
  },
  "language_info": {
   "codemirror_mode": {
    "name": "ipython",
    "version": 3
   },
   "file_extension": ".py",
   "mimetype": "text/x-python",
   "name": "python",
   "nbconvert_exporter": "python",
   "pygments_lexer": "ipython3",
   "version": "3.11.5"
  }
 },
 "nbformat": 4,
 "nbformat_minor": 5
}
