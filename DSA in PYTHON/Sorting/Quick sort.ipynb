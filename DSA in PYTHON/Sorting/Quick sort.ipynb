{
 "cells": [
  {
   "cell_type": "code",
   "execution_count": 2,
   "id": "b886f996",
   "metadata": {},
   "outputs": [
    {
     "name": "stdout",
     "output_type": "stream",
     "text": [
      "Sorted array: [1, 2, 3]\n"
     ]
    }
   ],
   "source": [
    "# quick sort\n",
    "def partition(arr, low, high):\n",
    "    pivot = arr[high]  # Choose the last element as the pivot\n",
    "    i = low - 1  # Index of the smaller element\n",
    "    \n",
    "    for j in range(low, high):\n",
    "        if arr[j] < pivot:\n",
    "            i += 1\n",
    "            arr[i], arr[j] = arr[j], arr[i]  # Swap arr[i] and arr[j]\n",
    "    \n",
    "    arr[i+1], arr[high] = arr[high], arr[i+1]  # Swap arr[i+1] and pivot\n",
    "    return i + 1\n",
    "\n",
    "def quick_sort(arr, low, high):\n",
    "    if low < high:\n",
    "        # Partition the array and get the index of the pivot\n",
    "        pi = partition(arr, low, high)\n",
    "        \n",
    "        # Recursively sort the sub-arrays before and after the pivot\n",
    "        quick_sort(arr, low, pi - 1)\n",
    "        quick_sort(arr, pi + 1, high)\n",
    "\n",
    "# Example usage:\n",
    "arr = [3,2,1]\n",
    "quick_sort(arr, 0, len(arr)-1) # array,low,high\n",
    "print(\"Sorted array:\", arr)\n"
   ]
  },
  {
   "cell_type": "code",
   "execution_count": null,
   "id": "337865fa",
   "metadata": {},
   "outputs": [],
   "source": []
  }
 ],
 "metadata": {
  "kernelspec": {
   "display_name": "Python 3 (ipykernel)",
   "language": "python",
   "name": "python3"
  },
  "language_info": {
   "codemirror_mode": {
    "name": "ipython",
    "version": 3
   },
   "file_extension": ".py",
   "mimetype": "text/x-python",
   "name": "python",
   "nbconvert_exporter": "python",
   "pygments_lexer": "ipython3",
   "version": "3.11.5"
  }
 },
 "nbformat": 4,
 "nbformat_minor": 5
}
