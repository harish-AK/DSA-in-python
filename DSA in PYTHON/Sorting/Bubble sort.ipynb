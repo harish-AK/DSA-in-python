{
 "cells": [
  {
   "cell_type": "markdown",
   "id": "121cb9f6-96e1-4191-8ab8-353c8c232f45",
   "metadata": {},
   "source": [
    "BUBBLE SORT"
   ]
  },
  {
   "cell_type": "code",
   "execution_count": null,
   "id": "ab67e06a-9083-4dcf-979f-998ee6df99a1",
   "metadata": {},
   "outputs": [],
   "source": []
  },
  {
   "cell_type": "code",
   "execution_count": 13,
   "id": "7d1ac811-951b-4be0-966d-44be0a924ef9",
   "metadata": {},
   "outputs": [
    {
     "name": "stdout",
     "output_type": "stream",
     "text": [
      "0\n",
      "1\n",
      "2\n",
      "3\n",
      "4\n",
      "5\n",
      "6\n",
      "[1, 1, 3, 4, 5, 11, 12, 34]\n"
     ]
    }
   ],
   "source": [
    "# optimized bubble sort - event though the array is sorted we need to run the loop for 1 time to confirm that no swaps needed\n",
    "b=[12,3,5,1,4,11,34,1]\n",
    "swap = False\n",
    "for i in range(len(b)-1):\n",
    "    print(i)\n",
    "    for j in range(len(b)-i-1): # we reduced the len(b) with i so that no need to compare the elements that are in correct postions.\n",
    "        if b[j] > b[j+1]:\n",
    "            swap = True\n",
    "            b[j] , b[j+1] = b[j+1] , b[j]\n",
    "    if not swap:\n",
    "        break\n",
    "print(b)"
   ]
  },
  {
   "cell_type": "code",
   "execution_count": null,
   "id": "41c0b353-3bca-4f59-8e00-4a31fbccce6d",
   "metadata": {},
   "outputs": [],
   "source": []
  },
  {
   "cell_type": "code",
   "execution_count": null,
   "id": "4ab8ddb7-7c8f-4ac0-b1b3-52cb16d0b490",
   "metadata": {},
   "outputs": [],
   "source": []
  }
 ],
 "metadata": {
  "kernelspec": {
   "display_name": "Python 3 (ipykernel)",
   "language": "python",
   "name": "python3"
  },
  "language_info": {
   "codemirror_mode": {
    "name": "ipython",
    "version": 3
   },
   "file_extension": ".py",
   "mimetype": "text/x-python",
   "name": "python",
   "nbconvert_exporter": "python",
   "pygments_lexer": "ipython3",
   "version": "3.11.5"
  }
 },
 "nbformat": 4,
 "nbformat_minor": 5
}
