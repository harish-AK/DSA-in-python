{
 "cells": [
  {
   "cell_type": "code",
   "execution_count": 1,
   "id": "5d099c10",
   "metadata": {},
   "outputs": [
    {
     "name": "stdout",
     "output_type": "stream",
     "text": [
      "[1, 2, 3]\n"
     ]
    }
   ],
   "source": [
    "# Selection sort\n",
    "a = [3,2,1]\n",
    "for i in range(len(a)):\n",
    "    small = i # in first iteration small = 0\n",
    "    for j in range(i+1,len(a)): # start form i+1 which is 0+1, 1 to 3(len(a)) \n",
    "        if a[j] < a[small]: # a[j] = 2, a[small] = 3\n",
    "            small = j\n",
    "    # swapping\n",
    "    a[i], a[small] = a[small], a[i]\n",
    "print(a)            "
   ]
  },
  {
   "cell_type": "code",
   "execution_count": 1,
   "id": "6f73c94f",
   "metadata": {},
   "outputs": [
    {
     "name": "stdout",
     "output_type": "stream",
     "text": [
      "7\n",
      " \n",
      " \n",
      " \n"
     ]
    }
   ],
   "source": [
    "sor = []\n",
    "a = [5,3,2,7]\n",
    "for i in range(len(a)):\n",
    "    sor.append(\" \")\n",
    "    for j in range(len(a)):\n",
    "        ele = min(a)\n",
    "        ind = a.index(min(a))\n",
    "        del a[ind]\n",
    "        sor[i] = ele\n",
    "for k in sor:\n",
    "    print(k)"
   ]
  },
  {
   "cell_type": "code",
   "execution_count": null,
   "id": "ad8dbca7",
   "metadata": {},
   "outputs": [],
   "source": []
  },
  {
   "cell_type": "code",
   "execution_count": null,
   "id": "5e3d9616",
   "metadata": {},
   "outputs": [],
   "source": []
  }
 ],
 "metadata": {
  "kernelspec": {
   "display_name": "Python 3 (ipykernel)",
   "language": "python",
   "name": "python3"
  },
  "language_info": {
   "codemirror_mode": {
    "name": "ipython",
    "version": 3
   },
   "file_extension": ".py",
   "mimetype": "text/x-python",
   "name": "python",
   "nbconvert_exporter": "python",
   "pygments_lexer": "ipython3",
   "version": "3.11.5"
  }
 },
 "nbformat": 4,
 "nbformat_minor": 5
}
