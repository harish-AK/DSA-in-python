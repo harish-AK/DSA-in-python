{
 "cells": [
  {
   "cell_type": "code",
   "execution_count": 20,
   "id": "6deaf73e",
   "metadata": {},
   "outputs": [
    {
     "data": {
      "text/plain": [
       "[-4, 0, 1, 3, 2, 5, 10, 8, 12, 9]"
      ]
     },
     "execution_count": 20,
     "metadata": {},
     "output_type": "execute_result"
    }
   ],
   "source": [
    "# min heap build - O(n)\n",
    "A = [-4,3,1,0,2,5,10,8,12,9]\n",
    "import heapq\n",
    "heapq.heapify(A)\n",
    "A\n",
    "#         -4\n",
    "#        /  \\\n",
    "#       0    1\n",
    "#      / \\  / \\\n",
    "#     3   2 5  10\n",
    "#    /\\  /\n",
    "#   8 12 9 \n",
    "\n"
   ]
  },
  {
   "cell_type": "code",
   "execution_count": 21,
   "id": "cf8ac261",
   "metadata": {},
   "outputs": [
    {
     "data": {
      "text/plain": [
       "[-4, 0, 1, 3, 2, 5, 10, 8, 12, 9, 4]"
      ]
     },
     "execution_count": 21,
     "metadata": {},
     "output_type": "execute_result"
    }
   ],
   "source": [
    "# heap push - O(log n)\n",
    "heapq.heappush(A,4)\n",
    "A\n",
    "#          -4\n",
    "#         /   \\\n",
    "#        0     1\n",
    "#      /  \\   / \\\n",
    "#     3    2 5  10\n",
    "#    / \\  / \\\n",
    "#   8  12 9  4"
   ]
  },
  {
   "cell_type": "code",
   "execution_count": 22,
   "id": "c1939e60",
   "metadata": {},
   "outputs": [
    {
     "data": {
      "text/plain": [
       "([0, 2, 1, 3, 4, 5, 10, 8, 12, 9], -4)"
      ]
     },
     "execution_count": 22,
     "metadata": {},
     "output_type": "execute_result"
    }
   ],
   "source": [
    "# heap pop - O(log n)\n",
    "minn = heapq.heappop(A)\n",
    "A,minn\n",
    "\n",
    "#               0\n",
    "#            /    \\\n",
    "#           2      1\n",
    "#          / \\    / \\\n",
    "#        3    4  5  10\n",
    "#       / \\   /\n",
    "#      8  12 9"
   ]
  },
  {
   "cell_type": "code",
   "execution_count": 23,
   "id": "2d359e08",
   "metadata": {},
   "outputs": [
    {
     "data": {
      "text/plain": [
       "[-4, 0, 1, 2, 3, 5, 8, 9, 10, 12]"
      ]
     },
     "execution_count": 23,
     "metadata": {},
     "output_type": "execute_result"
    }
   ],
   "source": [
    "# heap sort - O(n log n)\n",
    "def heapsort(arr):\n",
    "    heapq.heapify(arr)\n",
    "    n = len(arr)\n",
    "    new = [0]*n\n",
    "    for i in range(n):\n",
    "        minn = heapq.heappop(arr)\n",
    "        new[i] = minn\n",
    "    return new\n",
    "heapsort([-4,3,1,0,2,5,10,8,12,9])"
   ]
  },
  {
   "cell_type": "code",
   "execution_count": 24,
   "id": "f47baa60",
   "metadata": {},
   "outputs": [
    {
     "data": {
      "text/plain": [
       "[1, 2, 5, 3, 4, 100, 10, 8, 12, 9]"
      ]
     },
     "execution_count": 24,
     "metadata": {},
     "output_type": "execute_result"
    }
   ],
   "source": [
    "# pushpop() - O(log n)\n",
    "heapq.heappushpop(A,100)\n",
    "A"
   ]
  },
  {
   "cell_type": "code",
   "execution_count": 26,
   "id": "285eb20b",
   "metadata": {},
   "outputs": [
    {
     "name": "stdout",
     "output_type": "stream",
     "text": [
      "[4, -3, -1, 0, -2, -5, -10, -8, -12, -9]\n",
      "[-12, -9, -10, -8, -2, -5, -1, -3, 0, 4]\n"
     ]
    }
   ],
   "source": [
    "# max heap\n",
    "B = [-4,3,1,0,2,5,10,8,12,9]\n",
    "n = len(B)\n",
    "for i in range(n):\n",
    "    B[i] = -B[i]\n",
    "print(B)\n",
    "heapq.heapify(B)\n",
    "print(B)"
   ]
  },
  {
   "cell_type": "code",
   "execution_count": 27,
   "id": "9f053354",
   "metadata": {},
   "outputs": [
    {
     "data": {
      "text/plain": [
       "12"
      ]
     },
     "execution_count": 27,
     "metadata": {},
     "output_type": "execute_result"
    }
   ],
   "source": [
    "top = -heapq.heappop(B)\n",
    "top"
   ]
  },
  {
   "cell_type": "code",
   "execution_count": 30,
   "id": "ca0105cf",
   "metadata": {},
   "outputs": [
    {
     "data": {
      "text/plain": [
       "1"
      ]
     },
     "execution_count": 30,
     "metadata": {},
     "output_type": "execute_result"
    }
   ],
   "source": [
    "# peak\n",
    "A[0]"
   ]
  },
  {
   "cell_type": "code",
   "execution_count": 28,
   "id": "ab367ed4",
   "metadata": {},
   "outputs": [
    {
     "data": {
      "text/plain": [
       "[-99, -10, -5, -8, -9, 4, -1, -3, 0, -2]"
      ]
     },
     "execution_count": 28,
     "metadata": {},
     "output_type": "execute_result"
    }
   ],
   "source": [
    "# heap push\n",
    "heapq.heappush(B,-99)\n",
    "B"
   ]
  },
  {
   "cell_type": "code",
   "execution_count": 29,
   "id": "926d5afb",
   "metadata": {},
   "outputs": [
    {
     "name": "stdout",
     "output_type": "stream",
     "text": [
      "[-5]\n",
      "[-5, 4]\n",
      "[-5, 4, 2]\n",
      "[-5, 1, 2, 4]\n",
      "[-5, 1, 2, 4, 7]\n",
      "[-5, 1, 0, 4, 7, 2]\n",
      "[-5, 1, 0, 4, 7, 2, 3]\n"
     ]
    }
   ],
   "source": [
    "# heap from scratch\n",
    "C = [-5,4,2,1,7,0,3]\n",
    "heap = []\n",
    "for x in C:\n",
    "    heapq.heappush(heap,x)\n",
    "    print(heap)"
   ]
  },
  {
   "cell_type": "code",
   "execution_count": 31,
   "id": "6955800f",
   "metadata": {},
   "outputs": [
    {
     "data": {
      "text/plain": [
       "Counter({5: 4, 4: 3, 3: 2})"
      ]
     },
     "execution_count": 31,
     "metadata": {},
     "output_type": "execute_result"
    }
   ],
   "source": [
    "# tupe of items\n",
    "D = [5,4,3,5,4,3,5,5,4]\n",
    "from collections import Counter\n",
    "counter = Counter(D)\n",
    "counter"
   ]
  },
  {
   "cell_type": "code",
   "execution_count": 32,
   "id": "238faaf1",
   "metadata": {},
   "outputs": [
    {
     "data": {
      "text/plain": [
       "[(3, 2), (5, 4), (4, 3)]"
      ]
     },
     "execution_count": 32,
     "metadata": {},
     "output_type": "execute_result"
    }
   ],
   "source": [
    "heap = []\n",
    "for i,j in counter.items():\n",
    "    heapq.heappush(heap,(j,i)) # i - value, j - frequency\n",
    "heap"
   ]
  },
  {
   "cell_type": "code",
   "execution_count": null,
   "id": "3d90b6ad",
   "metadata": {},
   "outputs": [],
   "source": []
  }
 ],
 "metadata": {
  "kernelspec": {
   "display_name": "Python 3 (ipykernel)",
   "language": "python",
   "name": "python3"
  },
  "language_info": {
   "codemirror_mode": {
    "name": "ipython",
    "version": 3
   },
   "file_extension": ".py",
   "mimetype": "text/x-python",
   "name": "python",
   "nbconvert_exporter": "python",
   "pygments_lexer": "ipython3",
   "version": "3.11.5"
  }
 },
 "nbformat": 4,
 "nbformat_minor": 5
}
