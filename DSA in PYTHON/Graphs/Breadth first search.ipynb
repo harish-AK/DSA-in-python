{
 "cells": [
  {
   "cell_type": "code",
   "execution_count": 1,
   "id": "0c4666f4",
   "metadata": {},
   "outputs": [
    {
     "name": "stdout",
     "output_type": "stream",
     "text": [
      "Following is Breadth First Traversal (starting from vertex 2)\n",
      "2 0 3 1 "
     ]
    }
   ],
   "source": [
    "# Python3 Program to print BFS traversal\n",
    "# from a given source vertex. BFS(int s)\n",
    "# traverses vertices reachable from s.\n",
    "\n",
    "from collections import defaultdict\n",
    "\n",
    "\n",
    "# This class represents a directed graph\n",
    "# using adjacency list representation\n",
    "\n",
    "class Graph:\n",
    "\n",
    "\t# Constructor\n",
    "\tdef __init__(self):\n",
    "\n",
    "\t\t# Default dictionary to store graph\n",
    "\t\tself.graph = defaultdict(list)\n",
    "\n",
    "\t# Function to add an edge to graph\n",
    "\tdef addEdge(self, u, v):\n",
    "\t\tself.graph[u].append(v)\n",
    "\n",
    "\t# Function to print a BFS of graph\n",
    "\tdef BFS(self, s):\n",
    "\n",
    "\t\t# Mark all the vertices as not visited\n",
    "\t\tvisited = [False] * (max(self.graph) + 1)\n",
    "\n",
    "\t\t# Create a queue for BFS\n",
    "\t\tqueue = []\n",
    "\n",
    "\t\t# Mark the source node as\n",
    "\t\t# visited and enqueue it\n",
    "\t\tqueue.append(s)\n",
    "\t\tvisited[s] = True\n",
    "\n",
    "\t\twhile queue:\n",
    "\n",
    "\t\t\t# Dequeue a vertex from\n",
    "\t\t\t# queue and print it\n",
    "\t\t\ts = queue.pop(0)\n",
    "\t\t\tprint(s, end=\" \")\n",
    "\n",
    "\t\t\t# Get all adjacent vertices of the\n",
    "\t\t\t# dequeued vertex s.\n",
    "\t\t\t# If an adjacent has not been visited,\n",
    "\t\t\t# then mark it visited and enqueue it\n",
    "\t\t\tfor i in self.graph[s]:\n",
    "\t\t\t\tif visited[i] == False:\n",
    "\t\t\t\t\tqueue.append(i)\n",
    "\t\t\t\t\tvisited[i] = True\n",
    "\n",
    "\n",
    "# Driver code\n",
    "if __name__ == '__main__':\n",
    "\n",
    "\t# Create a graph given in\n",
    "\t# the above diagram\n",
    "\tg = Graph()\n",
    "\tg.addEdge(0, 1)\n",
    "\tg.addEdge(0, 2)\n",
    "\tg.addEdge(1, 2)\n",
    "\tg.addEdge(2, 0)\n",
    "\tg.addEdge(2, 3)\n",
    "\tg.addEdge(3, 3)\n",
    "\n",
    "\tprint(\"Following is Breadth First Traversal\"\n",
    "\t\t\" (starting from vertex 2)\")\n",
    "\tg.BFS(2)\n",
    "\n",
    "# This code is contributed by Neelam Yadav\n"
   ]
  },
  {
   "cell_type": "code",
   "execution_count": null,
   "id": "8b4441ac",
   "metadata": {},
   "outputs": [],
   "source": []
  }
 ],
 "metadata": {
  "kernelspec": {
   "display_name": "Python 3 (ipykernel)",
   "language": "python",
   "name": "python3"
  },
  "language_info": {
   "codemirror_mode": {
    "name": "ipython",
    "version": 3
   },
   "file_extension": ".py",
   "mimetype": "text/x-python",
   "name": "python",
   "nbconvert_exporter": "python",
   "pygments_lexer": "ipython3",
   "version": "3.11.5"
  }
 },
 "nbformat": 4,
 "nbformat_minor": 5
}
