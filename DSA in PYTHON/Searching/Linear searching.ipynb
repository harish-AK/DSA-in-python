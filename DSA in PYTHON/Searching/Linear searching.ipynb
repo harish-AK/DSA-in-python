{
 "cells": [
  {
   "cell_type": "markdown",
   "id": "fdc919b8-a97c-4efa-922b-dcfadf798aae",
   "metadata": {},
   "source": [
    "LIBEAR SEARCH"
   ]
  },
  {
   "cell_type": "code",
   "execution_count": 2,
   "id": "7e232d48-692d-4701-8b4d-0a9bbab49719",
   "metadata": {},
   "outputs": [
    {
     "data": {
      "text/plain": [
       "-1"
      ]
     },
     "execution_count": 2,
     "metadata": {},
     "output_type": "execute_result"
    }
   ],
   "source": [
    "def linear(l,tar):\n",
    "    for i in range(len(l)):\n",
    "        if l[i]==tar:\n",
    "            return i\n",
    "    return -1\n",
    "linear([1,2,3,4,5,6,7,8],70)"
   ]
  },
  {
   "cell_type": "code",
   "execution_count": null,
   "id": "d015d884-2af0-43d3-9a9a-93579d904fc6",
   "metadata": {},
   "outputs": [],
   "source": []
  }
 ],
 "metadata": {
  "kernelspec": {
   "display_name": "Python 3 (ipykernel)",
   "language": "python",
   "name": "python3"
  },
  "language_info": {
   "codemirror_mode": {
    "name": "ipython",
    "version": 3
   },
   "file_extension": ".py",
   "mimetype": "text/x-python",
   "name": "python",
   "nbconvert_exporter": "python",
   "pygments_lexer": "ipython3",
   "version": "3.11.5"
  }
 },
 "nbformat": 4,
 "nbformat_minor": 5
}
