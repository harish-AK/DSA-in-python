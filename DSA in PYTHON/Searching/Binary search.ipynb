{
 "cells": [
  {
   "cell_type": "markdown",
   "id": "e24ccde8-f719-41dc-a9c0-f6a31b01246c",
   "metadata": {},
   "source": [
    "BINARY SEARCH"
   ]
  },
  {
   "cell_type": "code",
   "execution_count": 1,
   "id": "07e3e62f-1a74-4561-b7f5-daedd4057924",
   "metadata": {},
   "outputs": [
    {
     "name": "stdout",
     "output_type": "stream",
     "text": [
      "4\n",
      "6\n",
      "7\n",
      "position  7\n"
     ]
    }
   ],
   "source": [
    "#binary search\n",
    "a = [1, 2, 3, 4, 5, 6, 7, 8, 9]\n",
    "tar = 8\n",
    "\n",
    "low = 0 # min index\n",
    "high = len(a) - 1 # max index\n",
    "\n",
    "while low <= high:\n",
    "    mid = (low + high) // 2 # middle index\n",
    "\n",
    "    if a[mid] == tar:\n",
    "        print(\"position \",mid)\n",
    "        break\n",
    "    elif a[mid] < tar:\n",
    "        low = mid + 1\n",
    "    else:\n",
    "        high = mid - 1"
   ]
  },
  {
   "cell_type": "code",
   "execution_count": 7,
   "id": "919231e7-2108-42d0-aec6-f0286cfd6833",
   "metadata": {},
   "outputs": [
    {
     "name": "stdout",
     "output_type": "stream",
     "text": [
      "2\n"
     ]
    }
   ],
   "source": [
    "def binarySearch(arr, low, high, x):\n",
    "\n",
    "    while low <= high:\n",
    "\n",
    "        mid = low + (high - low) // 2\n",
    "\n",
    "        # Check if x is present at mid\n",
    "        if arr[mid] == x:\n",
    "            return mid\n",
    "\n",
    "        # If x is greater, ignore left half\n",
    "        elif arr[mid] < x:\n",
    "            low = mid + 1\n",
    "\n",
    "        # If x is smaller, ignore right half\n",
    "        else:\n",
    "            high = mid - 1\n",
    "\n",
    "    # If we reach here, then the element\n",
    "    # was not present\n",
    "    return -1\n",
    "arr = [1, 2, 3, 4, 5, 6]\n",
    "result = binarySearch(arr, 0, len(arr) - 1, 3)\n",
    "print(result)\n"
   ]
  },
  {
   "cell_type": "code",
   "execution_count": 9,
   "id": "bd741c9f",
   "metadata": {},
   "outputs": [
    {
     "name": "stdout",
     "output_type": "stream",
     "text": [
      "Element is present at index 3\n"
     ]
    }
   ],
   "source": [
    "# recursion\n",
    "def binary(arr,low,high,tar):\n",
    "    if high >= low:\n",
    "        mid = low+(high-low)//2\n",
    "        \n",
    "        if arr[mid] > tar:\n",
    "            return binary(arr,low,mid-1,tar)\n",
    "        else:\n",
    "            return binary(arr,high,mid+1,tar)\n",
    "    else:\n",
    "        return -1\n",
    "arr = [2, 3, 4, 10, 40]\n",
    "tar = 10\n",
    "\n",
    "# Function call\n",
    "result = binarySearch(arr, 0, len(arr)-1, tar)\n",
    "\n",
    "if result != -1:\n",
    "    print(\"Element is present at index\", result)\n",
    "else:\n",
    "    print(\"Element is not present in array\")\n",
    "            "
   ]
  },
  {
   "cell_type": "code",
   "execution_count": null,
   "id": "7e64ebda",
   "metadata": {},
   "outputs": [],
   "source": []
  }
 ],
 "metadata": {
  "kernelspec": {
   "display_name": "Python 3 (ipykernel)",
   "language": "python",
   "name": "python3"
  },
  "language_info": {
   "codemirror_mode": {
    "name": "ipython",
    "version": 3
   },
   "file_extension": ".py",
   "mimetype": "text/x-python",
   "name": "python",
   "nbconvert_exporter": "python",
   "pygments_lexer": "ipython3",
   "version": "3.11.5"
  }
 },
 "nbformat": 4,
 "nbformat_minor": 5
}
