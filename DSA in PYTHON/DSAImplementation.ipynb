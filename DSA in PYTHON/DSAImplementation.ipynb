{
 "cells": [
  {
   "cell_type": "markdown",
   "metadata": {},
   "source": [
    "### Linked list"
   ]
  },
  {
   "cell_type": "code",
   "execution_count": 8,
   "metadata": {},
   "outputs": [
    {
     "name": "stdout",
     "output_type": "stream",
     "text": [
      "1\n",
      "2\n",
      "3\n"
     ]
    }
   ],
   "source": [
    "# singly linked\n",
    "class Node:\n",
    "    def __init__(self,val) -> None:\n",
    "        self.val = val\n",
    "        self.next = None\n",
    "\n",
    "class Linked:\n",
    "    def __init__(self) -> None:\n",
    "        self.head = None\n",
    "    \n",
    "    def insert(self,data):\n",
    "        new = Node(data)\n",
    "        curr = self.head\n",
    "\n",
    "        if self.head is None:\n",
    "            self.head = new\n",
    "        else:\n",
    "            while curr.next:\n",
    "                curr = curr.next\n",
    "            curr.next = new\n",
    "\n",
    "    def printlist(self):\n",
    "        curr = self.head\n",
    "        while curr:\n",
    "            print(curr.val)\n",
    "            curr = curr.next\n",
    "         \n",
    "l = Linked()\n",
    "l.insert(1)\n",
    "l.insert(2)\n",
    "l.insert(3)\n",
    "l.printlist()"
   ]
  },
  {
   "cell_type": "code",
   "execution_count": 12,
   "metadata": {},
   "outputs": [
    {
     "name": "stdout",
     "output_type": "stream",
     "text": [
      "1\n",
      "2\n",
      "3\n",
      "\n",
      "3\n",
      "2\n",
      "1\n"
     ]
    }
   ],
   "source": [
    "# doubly linked list\n",
    "class Node:\n",
    "    def __init__(self,val) -> None:\n",
    "        self.val = val\n",
    "        self.prev = None\n",
    "        self.next = None\n",
    "\n",
    "class Linked:\n",
    "    def __init__(self) -> None:\n",
    "        self.head = None\n",
    "\n",
    "    def insert(self,data):\n",
    "        curr = self.head\n",
    "        new = Node(data)            \n",
    "        \n",
    "        if self.head is None:\n",
    "            self.head = new\n",
    "        else:\n",
    "            while curr.next:\n",
    "                curr = curr.next\n",
    "            curr.next = new\n",
    "            new.prev = curr\n",
    "        \n",
    "    def printlist(self):\n",
    "        curr = self.head\n",
    "        while curr:\n",
    "            print(curr.val)\n",
    "            curr = curr.next\n",
    "    \n",
    "    def reverse(self):\n",
    "        curr = self.head\n",
    "        while curr.next:\n",
    "            curr = curr.next\n",
    "\n",
    "        while curr:\n",
    "            print(curr.val)\n",
    "            curr = curr.prev\n",
    "\n",
    "l = Linked()\n",
    "l.insert(1)\n",
    "l.insert(2)\n",
    "l.insert(3)\n",
    "l.printlist()\n",
    "print()\n",
    "l.reverse()"
   ]
  },
  {
   "cell_type": "code",
   "execution_count": 17,
   "metadata": {},
   "outputs": [
    {
     "name": "stdout",
     "output_type": "stream",
     "text": [
      "1\n",
      "2\n",
      "3\n"
     ]
    }
   ],
   "source": [
    "# circular linked list\n",
    "class Node:\n",
    "    def __init__(self,val) -> None:\n",
    "        self.val = val\n",
    "        self.next = None\n",
    "\n",
    "class circular:\n",
    "    def __init__(self) -> None:\n",
    "        self.head = None\n",
    "    \n",
    "    def insert(self,data):\n",
    "        curr = self.head\n",
    "        new = Node(data)\n",
    "        if curr is None:\n",
    "            self.head = new\n",
    "            new.next = self.head\n",
    "        else:\n",
    "            while curr.next != self.head:\n",
    "                curr = curr.next\n",
    "\n",
    "            curr.next = new\n",
    "            new.next = self.head\n",
    "\n",
    "    def printlist(self):\n",
    "        curr = self.head\n",
    "        while True:\n",
    "            print(curr.val)\n",
    "            curr = curr.next\n",
    "            if curr == self.head:\n",
    "                break\n",
    "\n",
    "l = circular()\n",
    "l.insert(1)\n",
    "l.insert(2)\n",
    "l.insert(3)\n",
    "l.printlist()"
   ]
  },
  {
   "cell_type": "markdown",
   "metadata": {},
   "source": [
    "### Stack"
   ]
  },
  {
   "cell_type": "code",
   "execution_count": 26,
   "metadata": {},
   "outputs": [
    {
     "name": "stdout",
     "output_type": "stream",
     "text": [
      "1\n",
      "2\n",
      "3\n",
      "1\n",
      "2\n"
     ]
    }
   ],
   "source": [
    "class stack:\n",
    "    def __init__(self,lis = []) -> None:\n",
    "        self.lis = lis\n",
    "\n",
    "    def insert(self,data):\n",
    "        self.lis.append(data)\n",
    "    \n",
    "    def delete(self):\n",
    "        if self.lis:\n",
    "            self.lis.pop()\n",
    "        else:\n",
    "            print(\"no elements to pop\")\n",
    "    def printstk(self):\n",
    "        for i in self.lis:\n",
    "            print(i)\n",
    "s = stack()\n",
    "s.insert(1)\n",
    "s.insert(2)\n",
    "s.insert(3)\n",
    "s.printstk()\n",
    "s.delete()\n",
    "s.printstk()\n"
   ]
  },
  {
   "cell_type": "markdown",
   "metadata": {},
   "source": [
    "### queue"
   ]
  },
  {
   "cell_type": "code",
   "execution_count": 45,
   "metadata": {},
   "outputs": [
    {
     "name": "stdout",
     "output_type": "stream",
     "text": [
      "1\n",
      "2\n",
      "3\n",
      "4\n",
      "5\n",
      "\n",
      "1\n",
      "2\n",
      "4\n",
      "5\n"
     ]
    }
   ],
   "source": [
    "# queue\n",
    "class queue:\n",
    "    def __init__(self,q = []) -> None:\n",
    "        self.q = q\n",
    "    \n",
    "    def insert(self,val):\n",
    "        self.q.append(val)\n",
    "\n",
    "    def deleteidx(self,idx):\n",
    "        cop = self.q[:idx-1]\n",
    "        for i in range(idx,len(self.q)):\n",
    "            cop.append(self.q[i])\n",
    "        self.q = cop\n",
    "    \n",
    "    def printq(self):\n",
    "        for i in self.q:\n",
    "            print(i)\n",
    "\n",
    "obj = queue()\n",
    "obj.insert(1)\n",
    "obj.insert(2)\n",
    "obj.insert(3)\n",
    "obj.insert(4)\n",
    "obj.insert(5)\n",
    "obj.printq()\n",
    "print()\n",
    "obj.deleteidx(3)\n",
    "obj.printq()"
   ]
  },
  {
   "cell_type": "markdown",
   "metadata": {},
   "source": [
    "### Tree"
   ]
  },
  {
   "cell_type": "code",
   "execution_count": 51,
   "metadata": {},
   "outputs": [
    {
     "name": "stdout",
     "output_type": "stream",
     "text": [
      "Inorder\n",
      "2\n",
      "4\n",
      "1\n",
      "3\n",
      "\n",
      "preorder\n",
      "1\n",
      "2\n",
      "4\n",
      "3\n",
      "\n",
      "postorder\n",
      "4\n",
      "2\n",
      "3\n",
      "1\n"
     ]
    }
   ],
   "source": [
    "# tree\n",
    "class Node:\n",
    "    def __init__(self,val,left = None,right = None) -> None:\n",
    "        self.left = left\n",
    "        self.right = right\n",
    "        self.val = val\n",
    "\n",
    "class Tree:\n",
    "    def inorder(self,root): # left->root->right\n",
    "        if root:\n",
    "            self.inorder(root.left)\n",
    "            print(root.val)\n",
    "            self.inorder(root.right)\n",
    "    \n",
    "    def preorder(self,root): # root->left->right\n",
    "        if root:\n",
    "            print(root.val)\n",
    "            self.preorder(root.left)\n",
    "            self.preorder(root.right)\n",
    "\n",
    "    def postorder(self,root): # left->right->root\n",
    "        if root:\n",
    "            self.postorder(root.left)\n",
    "            self.postorder(root.right)\n",
    "            print(root.val)\n",
    "\n",
    "t = Tree()\n",
    "root = Node(1)\n",
    "root.left = Node(2)\n",
    "root.left.right = Node(4)\n",
    "root.right = Node(3)\n",
    "print(\"Inorder\")\n",
    "t.inorder(root)\n",
    "print()\n",
    "print(\"preorder\")\n",
    "t.preorder(root)\n",
    "print()\n",
    "print(\"postorder\")\n",
    "t.postorder(root)"
   ]
  },
  {
   "cell_type": "code",
   "execution_count": 57,
   "metadata": {},
   "outputs": [
    {
     "name": "stdout",
     "output_type": "stream",
     "text": [
      "Preorder Traversal:\n",
      "1\n",
      "2\n",
      "5\n",
      "6\n",
      "4\n",
      "\n",
      "Postorder Traversal:\n",
      "5\n",
      "6\n",
      "2\n",
      "4\n",
      "1\n",
      "\n",
      "Inorder Traversal:\n",
      "5\n",
      "2\n",
      "6\n",
      "1\n",
      "4\n"
     ]
    }
   ],
   "source": [
    "# ternary tree - node with 3 childs\n",
    "# Node class for a ternary tree\n",
    "class Node:\n",
    "    def __init__(self, val, left=None, middle=None, right=None):\n",
    "        self.val = val\n",
    "        self.left = left\n",
    "        self.middle = middle\n",
    "        self.right = right\n",
    "\n",
    "# Ternary tree class\n",
    "class TernaryTree:\n",
    "    def __init__(self):\n",
    "        self.root = None\n",
    "\n",
    "    # Preorder traversal: root -> left -> middle -> right\n",
    "    def preorder(self, root):\n",
    "        if root:\n",
    "            print(root.val)  # Visit the root\n",
    "            self.preorder(root.left)  # Visit left subtree\n",
    "            self.preorder(root.middle)  # Visit middle subtree\n",
    "            self.preorder(root.right)  # Visit right subtree\n",
    "\n",
    "    # Postorder traversal: left -> middle -> right -> root\n",
    "    def postorder(self, root):\n",
    "        if root:\n",
    "            self.postorder(root.left)  # Visit left subtree\n",
    "            self.postorder(root.middle)  # Visit middle subtree\n",
    "            self.postorder(root.right)  # Visit right subtree\n",
    "            print(root.val)  # Visit the root\n",
    "\n",
    "    # Inorder traversal: left -> root -> middle -> right\n",
    "    def inorder(self, root):\n",
    "        if root:\n",
    "            self.inorder(root.left)  # Visit left subtree\n",
    "            print(root.val)  # Visit the root\n",
    "            self.inorder(root.middle)  # Visit middle subtree\n",
    "            self.inorder(root.right)  # Visit right subtree\n",
    "\n",
    "# Example usage:\n",
    "# Create a ternary tree with this structure:\n",
    "#        1\n",
    "#      / | \\\n",
    "#     2  3  4\n",
    "#    / \\\n",
    "#   5   6\n",
    "\n",
    "# Create nodes\n",
    "\n",
    "tree = Tree()\n",
    "root = Node(1)\n",
    "root.left = Node(2)\n",
    "root.middle = Node(3)\n",
    "root.right = Node(4)\n",
    "root.left.left = Node(5)\n",
    "root.left.right = Node(6)\n",
    "\n",
    "# tree.root = root\n",
    "# Perform traversals\n",
    "print(\"Preorder Traversal:\")\n",
    "tree.preorder(root)  # Output: 1 2 5 6 3 4\n",
    "print(\"\\nPostorder Traversal:\")\n",
    "tree.postorder(root)  # Output: 5 6 2 3 4 1\n",
    "print(\"\\nInorder Traversal:\")\n",
    "tree.inorder(root)  # Output: 5 2 6 1 3 4"
   ]
  },
  {
   "cell_type": "code",
   "execution_count": 29,
   "metadata": {},
   "outputs": [
    {
     "name": "stdout",
     "output_type": "stream",
     "text": [
      "2\n",
      "1\n",
      "3\n"
     ]
    }
   ],
   "source": [
    "class Tree:\n",
    "    def __init__(self, val=None) -> None:\n",
    "        self.right = None\n",
    "        self.left = None\n",
    "        self.val = val\n",
    "    \n",
    "    def insert(self, curr):\n",
    "        if self.val is None:\n",
    "            self.val = curr\n",
    "        else:\n",
    "            if self.left is None:\n",
    "                self.left = Tree(curr)\n",
    "            elif self.right is None:\n",
    "                self.right = Tree(curr)\n",
    "            else:\n",
    "                self.left.insert(curr)\n",
    "    \n",
    "    def traversal(self):\n",
    "        if self.left:\n",
    "            self.left.traversal()\n",
    "        print(self.val)\n",
    "        if self.right:\n",
    "            self.right.traversal()\n",
    "\n",
    "t = Tree()\n",
    "vals = [1, 2, 3]\n",
    "for i in vals:\n",
    "    t.insert(i)  \n",
    "    \n",
    "t.traversal()\n"
   ]
  },
  {
   "cell_type": "code",
   "execution_count": 23,
   "metadata": {},
   "outputs": [
    {
     "name": "stdout",
     "output_type": "stream",
     "text": [
      "Inorder Traversal:\n",
      "2 5 7 10 12 15 17 "
     ]
    }
   ],
   "source": [
    "class Tree:\n",
    "    def __init__(self, val=None) -> None:\n",
    "        self.val = val\n",
    "        self.left = None\n",
    "        self.right = None\n",
    "\n",
    "    def insert(self, curr):\n",
    "        # If the tree is empty, set the value\n",
    "        if self.val is None:\n",
    "            self.val = curr\n",
    "        else:\n",
    "            # If the value is less, insert into the left subtree\n",
    "            if curr < self.val:\n",
    "                if self.left is None:\n",
    "                    self.left = Tree(curr)\n",
    "                else:\n",
    "                    self.left.insert(curr)\n",
    "            # If the value is greater, insert into the right subtree\n",
    "            elif curr > self.val:\n",
    "                if self.right is None:\n",
    "                    self.right = Tree(curr)\n",
    "                else:\n",
    "                    self.right.insert(curr)\n",
    "\n",
    "    def inorder_traversal(self):\n",
    "        # Perform an inorder traversal (left -> root -> right)\n",
    "        if self.left:\n",
    "            self.left.inorder_traversal()\n",
    "        print(self.val, end=\" \")\n",
    "        if self.right:\n",
    "            self.right.inorder_traversal()\n",
    "\n",
    "\n",
    "# Usage\n",
    "root = Tree()  # Create the root of the BST\n",
    "values = [10, 5, 15, 2, 7, 12, 17]  # Values to insert\n",
    "\n",
    "for v in values:\n",
    "    root.insert(v)\n",
    "\n",
    "print(\"Inorder Traversal:\")\n",
    "root.inorder_traversal()"
   ]
  },
  {
   "cell_type": "markdown",
   "metadata": {},
   "source": [
    "### Graph"
   ]
  },
  {
   "cell_type": "code",
   "execution_count": 26,
   "metadata": {},
   "outputs": [
    {
     "data": {
      "text/plain": [
       "[[0, 0, 0, 0, 0, 0, 0, 0],\n",
       " [0, 0, 0, 0, 0, 0, 0, 0],\n",
       " [0, 0, 0, 0, 0, 0, 0, 0],\n",
       " [0, 0, 0, 0, 0, 0, 0, 0],\n",
       " [0, 0, 0, 0, 0, 0, 0, 0],\n",
       " [0, 0, 0, 0, 0, 0, 0, 0],\n",
       " [0, 0, 0, 0, 0, 0, 0, 0],\n",
       " [0, 0, 0, 0, 0, 0, 0, 0]]"
      ]
     },
     "execution_count": 26,
     "metadata": {},
     "output_type": "execute_result"
    }
   ],
   "source": [
    "from collections import defaultdict\n",
    "A = [[0, 1], [1, 2], [0, 3], [3, 4], [3, 6], [3, 7], [4, 2], [4, 5], [5, 2]] # edges - start,end\n",
    "n = 8 # number of nodes\n",
    "graph = defaultdict(list)\n",
    "# adjacency matrix\n",
    "m = []\n",
    "for i in range(n):\n",
    "    m.append([0]*n)\n",
    "m"
   ]
  },
  {
   "cell_type": "code",
   "execution_count": 27,
   "metadata": {},
   "outputs": [
    {
     "data": {
      "text/plain": [
       "[[0, 1, 0, 1, 0, 0, 0, 0],\n",
       " [0, 0, 1, 0, 0, 0, 0, 0],\n",
       " [0, 0, 0, 0, 0, 0, 0, 0],\n",
       " [0, 0, 0, 0, 1, 0, 1, 1],\n",
       " [0, 0, 1, 0, 0, 1, 0, 0],\n",
       " [0, 0, 1, 0, 0, 0, 0, 0],\n",
       " [0, 0, 0, 0, 0, 0, 0, 0],\n",
       " [0, 0, 0, 0, 0, 0, 0, 0]]"
      ]
     },
     "execution_count": 27,
     "metadata": {},
     "output_type": "execute_result"
    }
   ],
   "source": [
    "for u,v in A:\n",
    "    m[u][v] = 1\n",
    "m"
   ]
  },
  {
   "cell_type": "code",
   "execution_count": 28,
   "metadata": {},
   "outputs": [
    {
     "data": {
      "text/plain": [
       "defaultdict(list, {0: [1, 3], 1: [2], 3: [4, 6, 7], 4: [2, 5], 5: [2]})"
      ]
     },
     "execution_count": 28,
     "metadata": {},
     "output_type": "execute_result"
    }
   ],
   "source": [
    "for u,v in A:\n",
    "    graph[u].append(v)\n",
    "graph"
   ]
  },
  {
   "cell_type": "code",
   "execution_count": 30,
   "metadata": {},
   "outputs": [
    {
     "name": "stdout",
     "output_type": "stream",
     "text": [
      "0\n",
      "1\n",
      "2\n",
      "3\n",
      "4\n",
      "5\n",
      "6\n",
      "7\n"
     ]
    }
   ],
   "source": [
    "# DFS \n",
    "def traversal(node):\n",
    "    print(node)\n",
    "    for nei in graph[node]:\n",
    "        if nei not in seen:\n",
    "            seen.add(nei)\n",
    "            traversal(nei)\n",
    "seen = set()\n",
    "source = 0\n",
    "traversal(source)\n",
    "# defaultdict(list, {0: [1, 3], 1: [2], 3: [4, 6, 7], 4: [2, 5], 5: [2]})"
   ]
  },
  {
   "cell_type": "code",
   "execution_count": null,
   "metadata": {},
   "outputs": [],
   "source": [
    "# iterative\n",
    "seen = set()\n",
    "source = 0\n",
    "seen.add(source)\n",
    "st = [source]\n",
    "\n",
    "while st:\n",
    "    node = st.pop()\n",
    "    print(node)\n",
    "    for nei in graph[node]:\n",
    "        if nei not in seen:\n",
    "            seen.add(nei)\n",
    "            st.append(nei)\n",
    "\n",
    "# defaultdict(list, {0: [1, 3], 1: [2], 3: [4, 6, 7], 4: [2, 5], 5: [2]})"
   ]
  }
 ],
 "metadata": {
  "kernelspec": {
   "display_name": "ipykernel",
   "language": "python",
   "name": "base"
  },
  "language_info": {
   "codemirror_mode": {
    "name": "ipython",
    "version": 3
   },
   "file_extension": ".py",
   "mimetype": "text/x-python",
   "name": "python",
   "nbconvert_exporter": "python",
   "pygments_lexer": "ipython3",
   "version": "3.12.4"
  }
 },
 "nbformat": 4,
 "nbformat_minor": 2
}
