{
 "cells": [
  {
   "cell_type": "markdown",
   "id": "b1cceadc",
   "metadata": {},
   "source": [
    "# Arrays and Strings"
   ]
  },
  {
   "cell_type": "code",
   "execution_count": 4,
   "id": "6068fb65",
   "metadata": {},
   "outputs": [
    {
     "data": {
      "text/plain": [
       "1"
      ]
     },
     "execution_count": 4,
     "metadata": {},
     "output_type": "execute_result"
    }
   ],
   "source": [
    "# 1\n",
    "# Closest number to zero\n",
    "# Given an integer array nums of size n, return the number with the value closest to 0 in nums. \n",
    "# If there are multiple answers, return the number with the largest value.\n",
    "# Example 1:\n",
    "\n",
    "# Input: nums = [-4,-2,1,4,8]\n",
    "# Output: 1\n",
    "# Explanation:\n",
    "# The distance from -4 to 0 is |-4| = 4.\n",
    "# The distance from -2 to 0 is |-2| = 2.\n",
    "# The distance from 1 to 0 is |1| = 1.\n",
    "# The distance from 4 to 0 is |4| = 4.\n",
    "# The distance from 8 to 0 is |8| = 8.\n",
    "# Thus, the closest number to 0 in the array is 1.\n",
    "# Example 2:\n",
    "\n",
    "# Input: nums = [2,-1,1]\n",
    "# Output: 1\n",
    "# Explanation: 1 and -1 are both the closest numbers to 0, so 1 being larger is returned.\n",
    "\n",
    "nums = [-4,-2,1,4,8]\n",
    "close = nums[0]\n",
    "for i in nums:\n",
    "    if abs(i) < abs(close):\n",
    "        close = i\n",
    "    elif abs(i) == abs(close) and i > close:\n",
    "        close = i\n",
    "close"
   ]
  },
  {
   "cell_type": "code",
   "execution_count": 15,
   "id": "3830b3f3",
   "metadata": {},
   "outputs": [
    {
     "data": {
      "text/plain": [
       "'apbqrs'"
      ]
     },
     "execution_count": 15,
     "metadata": {},
     "output_type": "execute_result"
    }
   ],
   "source": [
    "# 2\n",
    "# Merge string alternatevely\n",
    "# You are given two strings word1 and word2. Merge the strings by adding letters in alternating order, starting with word1. \n",
    "# If a string is longer than the other, append the additional letters onto the end of the merged string.\n",
    "# Return the merged string.\n",
    "# Example 1:\n",
    "\n",
    "# Input: word1 = \"abc\", word2 = \"pqr\"\n",
    "# Output: \"apbqcr\"\n",
    "# Explanation: The merged string will be merged as so:\n",
    "# word1:  a   b   c\n",
    "# word2:    p   q   r\n",
    "# merged: a p b q c r\n",
    "word1 = \"ab\"\n",
    "word2 = \"pqrs\"\n",
    "res = []\n",
    "i,j = 0,0\n",
    "while i <= len(word1)-1 or j <= len(word2)-1:\n",
    "    if len(word1)-1 >= i:\n",
    "        res.append(word1[i])\n",
    "        i += 1\n",
    "    if len(word2)-1 >= j:\n",
    "        res.append(word2[j])\n",
    "        j += 1\n",
    "\"\".join(res)"
   ]
  },
  {
   "cell_type": "code",
   "execution_count": 24,
   "id": "d6025ac1",
   "metadata": {},
   "outputs": [
    {
     "name": "stdout",
     "output_type": "stream",
     "text": [
      "1994\n",
      "[5, -1, 100, -10, 1000, -100, 1000]\n"
     ]
    }
   ],
   "source": [
    "# 3\n",
    "# Roman to integer\n",
    "# Roman numerals are represented by seven different symbols: I, V, X, L, C, D and M.\n",
    "# Symbol       Value\n",
    "# I             1\n",
    "# V             5\n",
    "# X             10\n",
    "# L             50\n",
    "# C             100\n",
    "# D             500\n",
    "# M             1000\n",
    "# For example, 2 is written as II in Roman numeral, just two ones added together. 12 is written as XII, \n",
    "# which is simply X + II. The number 27 is written as XXVII, which is XX + V + II.\n",
    "# Roman numerals are usually written largest to smallest from left to right. However, \n",
    "# the numeral for four is not IIII. Instead, the number four is written as IV. \n",
    "# Because the one is before the five we subtract it making four. The same principle applies to the number nine, \n",
    "# which is written as IX. There are six instances where subtraction is used:\n",
    "# I can be placed before V (5) and X (10) to make 4 and 9. \n",
    "# X can be placed before L (50) and C (100) to make 40 and 90. \n",
    "# C can be placed before D (500) and M (1000) to make 400 and 900.\n",
    "# Given a roman numeral, convert it to an integer.\n",
    "\n",
    "# Example 1:\n",
    "\n",
    "# Input: s = \"III\"\n",
    "# Output: 3\n",
    "# Explanation: III = 3.\n",
    "\n",
    "s = \"MCMXCIV\"\n",
    "prev=0\n",
    "l=[]\n",
    "dic={'I':1,'V':5,'X':10,'L':50,'C':100,'D':500,'M':1000}\n",
    "for i in reversed(s):\n",
    "    val = dic[i]\n",
    "    if val < prev:\n",
    "        l.append(-val)\n",
    "    else:\n",
    "        l.append(val)\n",
    "    prev = val\n",
    "print(sum(l))\n",
    "print(l)      "
   ]
  },
  {
   "cell_type": "code",
   "execution_count": 7,
   "id": "9beac810",
   "metadata": {},
   "outputs": [
    {
     "name": "stdout",
     "output_type": "stream",
     "text": [
      "True\n"
     ]
    }
   ],
   "source": [
    "# 4\n",
    "# Given two strings s and t, return true if s is a subsequence of t, or false otherwise.\n",
    "# A subsequence of a string is a new string that is formed from the original string by deleting some (can be none) \n",
    "# of the characters without disturbing the relative positions of the remaining characters. \n",
    "# (i.e., \"ace\" is a subsequence of \"abcde\" while \"aec\" is not).\n",
    "\n",
    "# Example 1:\n",
    "\n",
    "# Input: s = \"abc\", t = \"ahbgdc\"\n",
    "# Output: true\n",
    "s = \"b\"\n",
    "t = \"abc\"\n",
    "i = 0  \n",
    "j = 0  \n",
    "\n",
    "while j < len(t) and i < len(s):\n",
    "    if i < len(s) and s[i] == t[j]:\n",
    "        i += 1\n",
    "    j += 1\n",
    "\n",
    "print(True if i == len(s) else False)"
   ]
  },
  {
   "cell_type": "code",
   "execution_count": 18,
   "id": "10321c3a",
   "metadata": {},
   "outputs": [
    {
     "data": {
      "text/plain": [
       "2"
      ]
     },
     "execution_count": 18,
     "metadata": {},
     "output_type": "execute_result"
    }
   ],
   "source": [
    "# 5\n",
    "# best time to buy and sell stocks\n",
    "# You are given an array prices where prices[i] is the price of a given stock on the ith day.\n",
    "# You want to maximize your profit by choosing a single day to buy one stock and choosing a different day in the \n",
    "# future to sell that stock.\n",
    "# Return the maximum profit you can achieve from this transaction. If you cannot achieve any profit, return 0.\n",
    "\n",
    "# Example 1:\n",
    "\n",
    "# Input: prices = [7,1,5,3,6,4]\n",
    "# Output: 5\n",
    "# Explanation: Buy on day 2 (price = 1) and sell on day 5 (price = 6), profit = 6-1 = 5.\n",
    "# Note that buying on day 2 and selling on day 1 is not allowed because you must buy before you sell.\n",
    "\n",
    "prices = [2,4,1]\n",
    "buy = prices[0]\n",
    "profit = 0\n",
    "for i in prices:\n",
    "    if buy > i:\n",
    "        buy = i\n",
    "    profit = max(profit,i-buy)\n",
    "profit"
   ]
  },
  {
   "cell_type": "code",
   "execution_count": 26,
   "id": "12465b4f",
   "metadata": {},
   "outputs": [
    {
     "name": "stdout",
     "output_type": "stream",
     "text": [
      "fl\n",
      "fl\n",
      "fl\n",
      "fl\n"
     ]
    },
    {
     "data": {
      "text/plain": [
       "'fl'"
      ]
     },
     "execution_count": 26,
     "metadata": {},
     "output_type": "execute_result"
    }
   ],
   "source": [
    "# 6\n",
    "# longest common prefix\n",
    "# Write a function to find the longest common prefix string amongst an array of strings.\n",
    "# If there is no common prefix, return an empty string \"\".\n",
    "\n",
    "# Example 1:\n",
    "\n",
    "# Input: strs = [\"flower\",\"flow\",\"flight\"]\n",
    "# Output: \"fl\"\n",
    "\n",
    "strs = [\"flower\",\"flow\",\"flight\"]\n",
    "res = \"\"\n",
    "sor = sorted(strs) # ['flight', 'flow', 'flower']\n",
    "first = sor[0]\n",
    "last = sor[-1]\n",
    "for i in range(min(len(first),len(last))):\n",
    "    if first[i] != last[i]:\n",
    "        print(res)\n",
    "    else:\n",
    "        res += first[i]\n",
    "res"
   ]
  },
  {
   "cell_type": "code",
   "execution_count": 27,
   "id": "bcd0eb93",
   "metadata": {},
   "outputs": [
    {
     "data": {
      "text/plain": [
       "['0->2', '4->5', '7']"
      ]
     },
     "execution_count": 27,
     "metadata": {},
     "output_type": "execute_result"
    }
   ],
   "source": [
    "# 7\n",
    "# Summary ranges\n",
    "# You are given a sorted unique integer array nums.\n",
    "# A range [a,b] is the set of all integers from a to b (inclusive).\n",
    "# Return the smallest sorted list of ranges that cover all the numbers in the array exactly. \n",
    "# That is, each element of nums is covered by exactly one of the ranges, and there is no integer x \n",
    "# such that x is in one of the ranges but not in nums.\n",
    "# Each range [a,b] in the list should be output as:\n",
    "# \"a->b\" if a != b\n",
    "# \"a\" if a == b\n",
    " \n",
    "# Example 1:\n",
    "\n",
    "# Input: nums = [0,1,2,4,5,7]\n",
    "# Output: [\"0->2\",\"4->5\",\"7\"]\n",
    "# Explanation: The ranges are:\n",
    "# [0,2] --> \"0->2\"\n",
    "# [4,5] --> \"4->5\"\n",
    "# [7,7] --> \"7\"\n",
    "\n",
    "nums = [0,1,2,4,5,7]\n",
    "i = 0\n",
    "ans = []\n",
    "while i < len(nums):\n",
    "    st = nums[i]\n",
    "    while i < len(nums)-1 and nums[i]+1 == nums[i+1]:\n",
    "        i += 1\n",
    "    if st != nums[i]:\n",
    "        ans.append(str(st) + \"->\" + str(nums[i]))\n",
    "    else:\n",
    "        ans.append(str(nums[i]))\n",
    "    i += 1\n",
    "ans"
   ]
  },
  {
   "cell_type": "code",
   "execution_count": 21,
   "id": "573ec1d7",
   "metadata": {},
   "outputs": [
    {
     "name": "stdout",
     "output_type": "stream",
     "text": [
      "24\n",
      "24\n"
     ]
    },
    {
     "data": {
      "text/plain": [
       "[24, 12, 8, 6]"
      ]
     },
     "execution_count": 21,
     "metadata": {},
     "output_type": "execute_result"
    }
   ],
   "source": [
    "# 8\n",
    "# product of array except self\n",
    "# Given an integer array nums, return an array answer such that answer[i] is equal to the product of all the elements \n",
    "# of nums except nums[i].\n",
    "# The product of any prefix or suffix of nums is guaranteed to fit in a 32-bit integer.\n",
    "# You must write an algorithm that runs in O(n) time and without using the division operation.\n",
    "\n",
    "# Example 1:\n",
    "# Input: nums = [1,2,3,4]\n",
    "# Output: [24,12,8,6]\n",
    "\n",
    "nums = [1,2,3,4]\n",
    "n = len(nums)\n",
    "res = [1]*n # [1,1,1,1]\n",
    "leftp = 1\n",
    "rightp = 1\n",
    "for i in range(n):\n",
    "    res[i] = leftp\n",
    "    leftp *= nums[i]\n",
    "print(leftp)\n",
    "\n",
    "for i in range(n-1,-1,-1):\n",
    "    res[i] *= rightp\n",
    "    rightp *= nums[i]\n",
    "print(rightp)\n",
    "res"
   ]
  },
  {
   "cell_type": "code",
   "execution_count": 35,
   "id": "147e6929",
   "metadata": {},
   "outputs": [
    {
     "name": "stdout",
     "output_type": "stream",
     "text": [
      "[[1, 3]]\n",
      "[[1, 6]]\n",
      "[[1, 6], [8, 10]]\n",
      "[[1, 6], [8, 10], [15, 18]]\n"
     ]
    },
    {
     "data": {
      "text/plain": [
       "[[1, 6], [8, 10], [15, 18]]"
      ]
     },
     "execution_count": 35,
     "metadata": {},
     "output_type": "execute_result"
    }
   ],
   "source": [
    "# 9\n",
    "# merge intervals\n",
    "# Given an array of intervals where intervals[i] = [starti, endi], merge all overlapping intervals, \n",
    "# and return an array of the non-overlapping intervals that cover all the intervals in the input.\n",
    "\n",
    "# Example 1:\n",
    "# Input: intervals = [[1,3],[2,6],[8,10],[15,18]]\n",
    "# Output: [[1,6],[8,10],[15,18]]\n",
    "# Explanation: Since intervals [1,3] and [2,6] overlap, merge them into [1,6].\n",
    "intervals = [[1,3],[2,6],[8,10],[15,18]]\n",
    "intervals.sort(key=lambda interval: interval[0])\n",
    "merged = []\n",
    "\n",
    "for interval in intervals:\n",
    "    if not merged or merged[-1][1] < interval[0]:\n",
    "        merged.append(interval)\n",
    "    else:\n",
    "        merged[-1] = [merged[-1][0], max(merged[-1][1], interval[1])]\n",
    "    print(merged)\n",
    "\n",
    "merged"
   ]
  },
  {
   "cell_type": "code",
   "execution_count": 40,
   "id": "401a2d42",
   "metadata": {},
   "outputs": [
    {
     "data": {
      "text/plain": [
       "[1, 2, 3, 6, 9, 8, 7, 4, 5]"
      ]
     },
     "execution_count": 40,
     "metadata": {},
     "output_type": "execute_result"
    }
   ],
   "source": [
    "# 10\n",
    "# spatial matrix\n",
    "# Given an m x n matrix, return all elements of the matrix in spiral order.\n",
    "# Input: matrix = [[1,2,3],[4,5,6],[7,8,9]]\n",
    "# Output: [1,2,3,6,9,8,7,4,5]\n",
    "matrix = [[1,2,3],[4,5,6],[7,8,9]]\n",
    "res = []\n",
    "while matrix:\n",
    "    res += matrix.pop(0) # add 1st row\n",
    "    if matrix and matrix[0]: # second row last element, we already poped 1st row so we accese the second row by matrix[0]\n",
    "        for r in matrix:\n",
    "            res.append(r.pop())\n",
    "    if matrix: # 3rd row in reverse\n",
    "        res += matrix.pop()[::-1]\n",
    "    if matrix and matrix[0]: # remaining lements in 2nd row \n",
    "        for r in matrix[::-1]:\n",
    "            res.append(r.pop(0))\n",
    "res"
   ]
  },
  {
   "cell_type": "code",
   "execution_count": 24,
   "id": "b9d6a42c",
   "metadata": {},
   "outputs": [
    {
     "name": "stdout",
     "output_type": "stream",
     "text": [
      "[[7, 8, 9], [4, 5, 6], [1, 2, 3]]\n"
     ]
    },
    {
     "data": {
      "text/plain": [
       "[[7, 4, 1], [8, 5, 2], [9, 6, 3]]"
      ]
     },
     "execution_count": 24,
     "metadata": {},
     "output_type": "execute_result"
    }
   ],
   "source": [
    "# 11\n",
    "# rotate image\n",
    "# You are given an n x n 2D matrix representing an image, rotate the image by 90 degrees (clockwise).\n",
    "# You have to rotate the image in-place, which means you have to modify the input 2D matrix directly. \n",
    "# DO NOT allocate another 2D matrix and do the rotation.\n",
    "\n",
    "# Example 1:\n",
    "# Input: matrix = [[1,2,3],[4,5,6],[7,8,9]]\n",
    "# Output: [[7,4,1],[8,5,2],[9,6,3]]\n",
    "matrix = [[1,2,3],[4,5,6],[7,8,9]]\n",
    "matrix.reverse()\n",
    "print(matrix)\n",
    "for i in range(len(matrix)):\n",
    "    for j in range(i):\n",
    "        matrix[i][j], matrix[j][i] = matrix[j][i],matrix[i][j]\n",
    "matrix"
   ]
  },
  {
   "cell_type": "markdown",
   "id": "2de7ad33",
   "metadata": {},
   "source": [
    "# Hash maps and sets"
   ]
  },
  {
   "cell_type": "code",
   "execution_count": 42,
   "id": "1e5dc1b8",
   "metadata": {},
   "outputs": [
    {
     "data": {
      "text/plain": [
       "3"
      ]
     },
     "execution_count": 42,
     "metadata": {},
     "output_type": "execute_result"
    }
   ],
   "source": [
    "# 1 \n",
    "# jewels and stones\n",
    "# You're given strings jewels representing the types of stones that are jewels, and stones representing the stones you have. \n",
    "# Each character in stones is a type of stone you have. You want to know how many of the stones you have are also jewels.\n",
    "# Letters are case sensitive, so \"a\" is considered a different type of stone from \"A\".\n",
    "\n",
    "# Example 1:\n",
    "# Input: jewels = \"aA\", stones = \"aAAbbbb\"\n",
    "# Output: 3\n",
    "\n",
    "jewels = \"aA\"\n",
    "stones = \"aAAbbbb\"\n",
    "s = set(jewels)\n",
    "count = 0\n",
    "for stone in stones:\n",
    "    if stone in s:\n",
    "        count += 1\n",
    "count"
   ]
  },
  {
   "cell_type": "code",
   "execution_count": 46,
   "id": "848036df",
   "metadata": {},
   "outputs": [
    {
     "name": "stdout",
     "output_type": "stream",
     "text": [
      "True\n"
     ]
    }
   ],
   "source": [
    "# 2\n",
    "# contains duplicate\n",
    "# Given an integer array nums, return true if any value appears at least twice in the array, and return false \n",
    "# if every element is distinct.\n",
    "# Example 1:\n",
    "\n",
    "# Input: nums = [1,2,3,1]\n",
    "# Output: true\n",
    "\n",
    "nums = [1,2,3,1]\n",
    "se = set()\n",
    "for i in nums:\n",
    "    if i in se:\n",
    "        print(True)\n",
    "    else:\n",
    "        se.add(i)"
   ]
  },
  {
   "cell_type": "code",
   "execution_count": 22,
   "id": "8c208108",
   "metadata": {},
   "outputs": [
    {
     "data": {
      "text/plain": [
       "True"
      ]
     },
     "execution_count": 22,
     "metadata": {},
     "output_type": "execute_result"
    }
   ],
   "source": [
    "# 3 \n",
    "# ransom note\n",
    "# Given two strings ransomNote and magazine, return true if ransomNote can be constructed by using the \n",
    "# letters from magazine and false otherwise.\n",
    "# Each letter in magazine can only be used once in ransomNote.\n",
    "\n",
    "# Example 1:\n",
    "\n",
    "# Input: ransomNote = \"a\", magazine = \"b\"\n",
    "# Output: false\n",
    "\n",
    "ransomNote = \"bg\"\n",
    "magazine = \"bjlndjfgds\"\n",
    "note = set(ransomNote)\n",
    "for i in note:\n",
    "    if ransomNote.count(i) > magazine.count(i):\n",
    "        False\n",
    "True"
   ]
  },
  {
   "cell_type": "code",
   "execution_count": 28,
   "id": "ee042d28",
   "metadata": {},
   "outputs": [
    {
     "name": "stdout",
     "output_type": "stream",
     "text": [
      "True\n"
     ]
    }
   ],
   "source": [
    "# 4\n",
    "# valid anagram\n",
    "# Given two strings s and t, return true if t is an anagram of s, and false otherwise.\n",
    "# An Anagram is a word or phrase formed by rearranging the letters of a different word or phrase, \n",
    "# typically using all the original letters exactly once.\n",
    "\n",
    "# Example 1:\n",
    "\n",
    "# Input: s = \"anagram\", t = \"nagaram\"\n",
    "# Output: true\n",
    "from collections import Counter\n",
    "s = \"anagram\"\n",
    "t = \"nagaram\"\n",
    "ss = Counter(s)\n",
    "tt = Counter(t)\n",
    "if ss == tt:\n",
    "    print(True)\n",
    "else:\n",
    "    False"
   ]
  },
  {
   "cell_type": "code",
   "execution_count": 52,
   "id": "b5d9cc3f",
   "metadata": {},
   "outputs": [
    {
     "data": {
      "text/plain": [
       "2"
      ]
     },
     "execution_count": 52,
     "metadata": {},
     "output_type": "execute_result"
    }
   ],
   "source": [
    "# 5\n",
    "# maximum number of balloons\n",
    "# Given a string text, you want to use the characters of text to form as many instances of the word \"balloon\" as possible.\n",
    "# You can use each character in text at most once. Return the maximum number of instances that can be formed.\n",
    " \n",
    "# Example 1:\n",
    "\n",
    "# Input: text = \"nlaebolko\"\n",
    "# Output: 1\n",
    "\n",
    "from collections import Counter\n",
    "text = \"nlaebolkoballoon\"\n",
    "ball = \"balloon\"\n",
    "b = Counter(ball)\n",
    "t = Counter(text)\n",
    "keys_to_delete = [key for key in t if key not in b]\n",
    "for key in keys_to_delete:\n",
    "    del t[key]\n",
    "min_ins = float('inf')\n",
    "for i in b:\n",
    "    if i in 'lo':\n",
    "        maxc = t[i]//b[i]\n",
    "    else:\n",
    "        maxc = t[i]//b[i]\n",
    "    min_ins = min(min_ins,maxc)\n",
    "min_ins"
   ]
  },
  {
   "cell_type": "code",
   "execution_count": 53,
   "id": "467c16bc",
   "metadata": {},
   "outputs": [
    {
     "name": "stdout",
     "output_type": "stream",
     "text": [
      "0 1\n"
     ]
    }
   ],
   "source": [
    "# 6\n",
    "# two sum\n",
    "# Given an array of integers nums and an integer target, return indices of the two numbers such that they add up to target.\n",
    "# You may assume that each input would have exactly one solution, and you may not use the same element twice.\n",
    "# You can return the answer in any order.\n",
    "\n",
    "# Example 1:\n",
    "\n",
    "# Input: nums = [2,7,11,15], target = 9\n",
    "# Output: [0,1]\n",
    "# Explanation: Because nums[0] + nums[1] == 9, we return [0, 1].\n",
    "\n",
    "nums = [2,7,11,15]\n",
    "target = 9\n",
    "seen = {}\n",
    "for i in range(len(nums)):\n",
    "    diff = target - nums[i]\n",
    "    if diff in seen:\n",
    "        print(seen[diff],i)\n",
    "    else:\n",
    "        seen[nums[i]] = i"
   ]
  },
  {
   "cell_type": "code",
   "execution_count": 59,
   "id": "104a5416",
   "metadata": {},
   "outputs": [
    {
     "name": "stdout",
     "output_type": "stream",
     "text": [
      "[['eat', 'tea', 'ate'], ['tan', 'nat'], ['bat']]\n"
     ]
    }
   ],
   "source": [
    "# 7\n",
    "# group anagrams\n",
    "# Given an array of strings strs, group the anagrams together. You can return the answer in any order.\n",
    "# An Anagram is a word or phrase formed by rearranging the letters of a different word or phrase, typically \n",
    "# using all the original letters exactly once.\n",
    "\n",
    "# Example 1:\n",
    "\n",
    "# Input: strs = [\"eat\",\"tea\",\"tan\",\"ate\",\"nat\",\"bat\"]\n",
    "# Output: [[\"bat\"],[\"nat\",\"tan\"],[\"ate\",\"eat\",\"tea\"]]\n",
    "from collections import defaultdict\n",
    "strs = [\"eat\",\"tea\",\"tan\",\"ate\",\"nat\",\"bat\"]\n",
    "ana = defaultdict(list)\n",
    "for i in strs:\n",
    "    sor = ''.join(sorted(i))\n",
    "    ana[sor].append(i)\n",
    "print(list(ana.values()))"
   ]
  },
  {
   "cell_type": "code",
   "execution_count": 3,
   "id": "8e94ad89",
   "metadata": {},
   "outputs": [
    {
     "name": "stdout",
     "output_type": "stream",
     "text": [
      "{3: 2, 2: 1}\n"
     ]
    },
    {
     "data": {
      "text/plain": [
       "3"
      ]
     },
     "execution_count": 3,
     "metadata": {},
     "output_type": "execute_result"
    }
   ],
   "source": [
    "# 8\n",
    "# majority element\n",
    "# Given an array nums of size n, return the majority element.\n",
    "# The majority element is the element that appears more than ⌊n / 2⌋ times. \n",
    "# You may assume that the majority element always exists in the array.\n",
    "\n",
    "# Example 1:\n",
    "\n",
    "# Input: nums = [3,2,3]\n",
    "# Output: 3\n",
    "\n",
    "nums = [3,2,3]\n",
    "counter = {}\n",
    "for num in nums:\n",
    "    if num in counter:\n",
    "        counter[num] += 1\n",
    "    else:\n",
    "        counter[num] = 1\n",
    "print(counter)\n",
    "max_count = -1\n",
    "ans = -1\n",
    "for key, val in counter.items():\n",
    "    if val > max_count:\n",
    "        max_count = val\n",
    "        ans = key\n",
    "\n",
    "ans"
   ]
  },
  {
   "cell_type": "code",
   "execution_count": 7,
   "id": "a64007d3",
   "metadata": {},
   "outputs": [
    {
     "data": {
      "text/plain": [
       "4"
      ]
     },
     "execution_count": 7,
     "metadata": {},
     "output_type": "execute_result"
    }
   ],
   "source": [
    "# 9 \n",
    "# longest consecutive sequence\n",
    "# Given an unsorted array of integers nums, return the length of the longest consecutive elements sequence.\n",
    "# You must write an algorithm that runs in O(n) time.\n",
    "\n",
    "# Example 1:\n",
    "\n",
    "# Input: nums = [100,4,200,1,3,2]\n",
    "# Output: 4\n",
    "# Explanation: The longest consecutive elements sequence is [1, 2, 3, 4]. Therefore its length is 4.\n",
    "nums = [100,4,200,1,3,2]\n",
    "s =  set(nums) # will sort and remove duplicates\n",
    "lon = 0\n",
    "for num in s:\n",
    "    if num-1 not in s:\n",
    "        nextnum = num + 1\n",
    "        length = 1\n",
    "        while nextnum in s:\n",
    "            length += 1\n",
    "            nextnum += 1\n",
    "        lon = max(lon,length)\n",
    "lon"
   ]
  },
  {
   "cell_type": "markdown",
   "id": "435b42c0",
   "metadata": {},
   "source": [
    "# Two pointers"
   ]
  },
  {
   "cell_type": "code",
   "execution_count": 19,
   "id": "fb01c4df",
   "metadata": {},
   "outputs": [
    {
     "name": "stdout",
     "output_type": "stream",
     "text": [
      "[100, 16, 9, 1, 0]\n"
     ]
    },
    {
     "data": {
      "text/plain": [
       "[0, 1, 9, 16, 100]"
      ]
     },
     "execution_count": 19,
     "metadata": {},
     "output_type": "execute_result"
    }
   ],
   "source": [
    "# 1\n",
    "# squares of sorted array\n",
    "# Given an integer array nums sorted in non-decreasing order, return an array of the squares \n",
    "# of each number sorted in non-decreasing order.\n",
    "\n",
    "# Example 1:\n",
    "\n",
    "# Input: nums = [-4,-1,0,3,10]\n",
    "# Output: [0,1,9,16,100]\n",
    "# Explanation: After squaring, the array becomes [16,1,0,9,100].\n",
    "# After sorting, it becomes [0,1,9,16,100].\n",
    "\n",
    "nums = [-4,-1,0,3,10]\n",
    "l = 0\n",
    "r = len(nums) - 1\n",
    "res = []\n",
    "while l < r:\n",
    "    if abs(nums[l]) > abs(nums[r]):\n",
    "        res.append(nums[l] ** 2)\n",
    "        l += 1\n",
    "    else:\n",
    "        res.append(nums[r] ** 2)\n",
    "        r -= 1\n",
    "print(res)\n",
    "res.reverse()\n",
    "res"
   ]
  },
  {
   "cell_type": "code",
   "execution_count": 20,
   "id": "c0a6dbd8",
   "metadata": {},
   "outputs": [
    {
     "data": {
      "text/plain": [
       "['o', 'l', 'l', 'e', 'h']"
      ]
     },
     "execution_count": 20,
     "metadata": {},
     "output_type": "execute_result"
    }
   ],
   "source": [
    "# 2\n",
    "# reverse a string\n",
    "# Write a function that reverses a string. The input string is given as an array of characters s.\n",
    "# You must do this by modifying the input array in-place with O(1) extra memory.\n",
    "\n",
    "# Example 1:\n",
    "\n",
    "# Input: s = [\"h\",\"e\",\"l\",\"l\",\"o\"]\n",
    "# Output: [\"o\",\"l\",\"l\",\"e\",\"h\"]\n",
    "\n",
    "s = [\"h\",\"e\",\"l\",\"l\",\"o\"]\n",
    "l = 0\n",
    "r = len(s) - 1\n",
    "while l < r:\n",
    "    s[l],s[r] = s[r],s[l]\n",
    "    r -= 1\n",
    "    l += 1\n",
    "s"
   ]
  },
  {
   "cell_type": "code",
   "execution_count": 21,
   "id": "dcbde6d0",
   "metadata": {},
   "outputs": [
    {
     "name": "stdout",
     "output_type": "stream",
     "text": [
      "1 2\n"
     ]
    }
   ],
   "source": [
    "# 3\n",
    "# 2 sum II (sorted array)\n",
    "# Given a 1-indexed array of integers numbers that is already sorted in non-decreasing order, \n",
    "# find two numbers such that they add up to a specific target number. Let these two numbers be numbers[index1] and numbers[index2] where 1 <= index1 < index2 <= numbers.length.\n",
    "# Return the indices of the two numbers, index1 and index2, added by one as an integer array [index1, index2] of length 2.\n",
    "# The tests are generated such that there is exactly one solution. You may not use the same element twice.\n",
    "# Your solution must use only constant extra space.\n",
    "\n",
    "# Example 1:\n",
    "\n",
    "# Input: numbers = [2,7,11,15], target = 9\n",
    "# Output: [1,2]\n",
    "# Explanation: The sum of 2 and 7 is 9. Therefore, index1 = 1, index2 = 2. We return [1, 2].\n",
    "\n",
    "numbers = [2,7,11,15]\n",
    "target = 9\n",
    "l = 0\n",
    "r = len(numbers) - 1\n",
    "while l < r:\n",
    "    res =  numbers[l] + numbers[r]\n",
    "    if res == target:\n",
    "        print(l+1,r+1)\n",
    "    if res < target:\n",
    "        l += 1\n",
    "    else:\n",
    "        r -= 1"
   ]
  },
  {
   "cell_type": "code",
   "execution_count": 25,
   "id": "a0d39e79",
   "metadata": {},
   "outputs": [
    {
     "name": "stdout",
     "output_type": "stream",
     "text": [
      "False\n",
      "False\n",
      "False\n",
      "False\n",
      "False\n",
      "False\n",
      "False\n",
      "False\n",
      "False\n",
      "False\n",
      "False\n",
      "True\n"
     ]
    }
   ],
   "source": [
    "# 4\n",
    "# valid palindrome\n",
    "# A phrase is a palindrome if, after converting all uppercase letters into \n",
    "# lowercase letters and removing all non-alphanumeric characters, it reads the same forward and backward. \n",
    "# Alphanumeric characters include letters and numbers.\n",
    "# Given a string s, return true if it is a palindrome, or false otherwise.\n",
    "\n",
    "# Example 1:\n",
    "\n",
    "# Input: s = \"A man, a plan, a canal: Panama\"\n",
    "# Output: true\n",
    "# Explanation: \"amanaplanacanalpanama\" is a palindrome.\n",
    "s = \"A man, a plan, a canal: Panama\"\n",
    "l = 0\n",
    "r = len(s) - 1\n",
    "while l < r:\n",
    "    if not s[l].isalnum():\n",
    "        l += 1\n",
    "        continue\n",
    "    if not s[r].isalnum():\n",
    "        r += 1\n",
    "        continue\n",
    "    if s[l].islower() != s[r].islower():\n",
    "        print(False)\n",
    "    l += 1\n",
    "    r -= 1\n",
    "print(True)\n",
    "\n"
   ]
  },
  {
   "cell_type": "code",
   "execution_count": 26,
   "id": "393a74be",
   "metadata": {},
   "outputs": [
    {
     "data": {
      "text/plain": [
       "[(-1, 0, 1), (-1, -1, 2)]"
      ]
     },
     "execution_count": 26,
     "metadata": {},
     "output_type": "execute_result"
    }
   ],
   "source": [
    "# 5\n",
    "# 3 sum\n",
    "# Given an integer array nums, return all the triplets [nums[i], nums[j], nums[k]] such that i != j, i != k, and j != k, \n",
    "# and nums[i] + nums[j] + nums[k] == 0.\n",
    "# Notice that the solution set must not contain duplicate triplets.\n",
    "\n",
    "# Example 1:\n",
    "\n",
    "# Input: nums = [-1,0,1,2,-1,-4]\n",
    "# Output: [[-1,-1,2],[-1,0,1]]\n",
    "# Explanation: \n",
    "# nums[0] + nums[1] + nums[2] = (-1) + 0 + 1 = 0.\n",
    "# nums[1] + nums[2] + nums[4] = 0 + 1 + (-1) = 0.\n",
    "# nums[0] + nums[3] + nums[4] = (-1) + 2 + (-1) = 0.\n",
    "# The distinct triplets are [-1,0,1] and [-1,-1,2].\n",
    "# Notice that the order of the output and the order of the triplets does not matter.\n",
    "\n",
    "nums = [-1,0,1,2,-1,-4]\n",
    "target = 0\n",
    "nums.sort()\n",
    "s = set()\n",
    "output = []\n",
    "for i in range(len(nums)):\n",
    "    j = i + 1\n",
    "    k = len(nums) - 1\n",
    "    while j < k:\n",
    "        sum = nums[i] + nums[j] + nums[k]\n",
    "        if sum == target:\n",
    "            s.add((nums[i], nums[j], nums[k]))\n",
    "            j += 1\n",
    "            k -= 1\n",
    "        elif sum < target:\n",
    "            j += 1\n",
    "        else:\n",
    "            k -= 1\n",
    "output = list(s)\n",
    "output"
   ]
  },
  {
   "cell_type": "code",
   "execution_count": 30,
   "id": "ea2fbda4",
   "metadata": {},
   "outputs": [
    {
     "data": {
      "text/plain": [
       "49"
      ]
     },
     "execution_count": 30,
     "metadata": {},
     "output_type": "execute_result"
    }
   ],
   "source": [
    "# 6\n",
    "# container witj most water\n",
    "# You are given an integer array height of length n. There are n vertical lines drawn such that the two endpoints of the \n",
    "# ith line are (i, 0) and (i, height[i]).\n",
    "# Find two lines that together with the x-axis form a container, such that the container contains the most water.\n",
    "# Return the maximum amount of water a container can store.\n",
    "\n",
    "# Input: height = [1,8,6,2,5,4,8,3,7]\n",
    "# Output: 49\n",
    "# Explanation: The above vertical lines are represented by array [1,8,6,2,5,4,8,3,7]. In this case, \n",
    "# the max area of water (blue section) the container can contain is 49.\n",
    "height = [1,8,6,2,5,4,8,3,7]\n",
    "n = len(height)\n",
    "max_area = 0  \n",
    "l = 0\n",
    "r = len(height) - 1\n",
    "while l < r:\n",
    "    w = r - l\n",
    "    h = min(height[l],height[r])\n",
    "    area = h*w\n",
    "    max_area = max(area,max_area)\n",
    "    if height[l] < height[r]:\n",
    "        l += 1\n",
    "    else:\n",
    "        r -= 1\n",
    "max_area"
   ]
  },
  {
   "cell_type": "code",
   "execution_count": 31,
   "id": "4f5297c4",
   "metadata": {},
   "outputs": [
    {
     "data": {
      "text/plain": [
       "6"
      ]
     },
     "execution_count": 31,
     "metadata": {},
     "output_type": "execute_result"
    }
   ],
   "source": [
    "# 7\n",
    "# tapping rain water\n",
    "# Given n non-negative integers representing an elevation map where the width of each bar is 1, \n",
    "# compute how much water it can trap after raining.\n",
    "\n",
    "# Example 1:\n",
    "\n",
    "# Input: height = [0,1,0,2,1,0,1,3,2,1,2,1]\n",
    "# Output: 6\n",
    "# Explanation: The above elevation map (black section) is represented by array [0,1,0,2,1,0,1,3,2,1,2,1]. \n",
    "# In this case, 6 units of rain water (blue section) are being trapped.\n",
    "\n",
    "height = [0,1,0,2,1,0,1,3,2,1,2,1]\n",
    "l_wall = r_wall = 0\n",
    "n = len(height)\n",
    "max_left = [0] * n\n",
    "max_right = [0] * n\n",
    "\n",
    "for i in range(n):\n",
    "    j = -i - 1\n",
    "    max_left[i] = l_wall\n",
    "    max_right[j] = r_wall\n",
    "    l_wall = max(l_wall, height[i])\n",
    "    r_wall = max(r_wall, height[j])\n",
    "\n",
    "summ = 0\n",
    "for i in range(n):\n",
    "    pot = min(max_left[i], max_right[i])\n",
    "    summ += max(0, pot - height[i])\n",
    "\n",
    "summ"
   ]
  },
  {
   "cell_type": "markdown",
   "id": "5ab97f02",
   "metadata": {},
   "source": [
    "# Stack"
   ]
  },
  {
   "cell_type": "code",
   "execution_count": 51,
   "id": "efbde3f1",
   "metadata": {},
   "outputs": [
    {
     "data": {
      "text/plain": [
       "[5, 30, 25]"
      ]
     },
     "execution_count": 51,
     "metadata": {},
     "output_type": "execute_result"
    }
   ],
   "source": [
    "# 1 \n",
    "# Baseball game\n",
    "# You are keeping the scores for a baseball game with strange rules. At the beginning of the game, you start \n",
    "# with an empty record.\n",
    "# You are given a list of strings operations, where operations[i] is the ith operation you must apply to \n",
    "# the record and is one of the following:\n",
    "\n",
    "# An integer x.\n",
    "# Record a new score of x.\n",
    "# '+'.\n",
    "# Record a new score that is the sum of the previous two scores.\n",
    "# 'D'.\n",
    "# Record a new score that is the double of the previous score.\n",
    "# 'C'.\n",
    "# Invalidate the previous score, removing it from the record.\n",
    "# Return the sum of all the scores on the record after applying all the operations.\n",
    "\n",
    "# The test cases are generated such that the answer and all intermediate calculations fit \n",
    "# in a 32-bit integer and that all operations are valid.\n",
    "\n",
    "# Example 1:\n",
    "\n",
    "# Input: ops = [\"5\",\"2\",\"C\",\"D\",\"+\"]\n",
    "# Output: 30\n",
    "# Explanation:\n",
    "# \"5\" - Add 5 to the record, record is now [5].\n",
    "# \"2\" - Add 2 to the record, record is now [5, 2].\n",
    "# \"C\" - Invalidate and remove the previous score, record is now [5].\n",
    "# \"D\" - Add 2 * 5 = 10 to the record, record is now [5, 10].\n",
    "# \"+\" - Add 5 + 10 = 15 to the record, record is now [5, 10, 15].\n",
    "# The total sum is 5 + 10 + 15 = 30.\n",
    "ops = [\"5\", \"2\", \"C\", \"D\", \"+\"]\n",
    "sto = []\n",
    "\n",
    "for i in range(len(ops)):\n",
    "    if ops[i] == \"C\":\n",
    "        sto.pop()\n",
    "    elif ops[i] == \"D\":\n",
    "        sto.append(2 * st[-1])\n",
    "    elif ops[i] == \"+\":\n",
    "        sto.append(st[-1] + st[-2])\n",
    "    else:\n",
    "        sto.append(int(ops[i]))\n",
    "sto\n"
   ]
  },
  {
   "cell_type": "code",
   "execution_count": 53,
   "id": "889b3624",
   "metadata": {},
   "outputs": [
    {
     "name": "stdout",
     "output_type": "stream",
     "text": [
      "False\n",
      "False\n",
      "True\n"
     ]
    }
   ],
   "source": [
    "# 2\n",
    "# valid paranthesis\n",
    "# Given a string s containing just the characters '(', ')', '{', '}', '[' and ']', determine if the input string is valid.\n",
    "# An input string is valid if:\n",
    "# Open brackets must be closed by the same type of brackets.\n",
    "# Open brackets must be closed in the correct order.\n",
    "# Every close bracket has a corresponding open bracket of the same type.\n",
    " \n",
    "# Example 1:\n",
    "\n",
    "# Input: s = \"()\"\n",
    "# Output: true\n",
    "s = \"()\"\n",
    "st = []\n",
    "for i in s:\n",
    "    if i == \"{\":\n",
    "        st.append(\"}\")\n",
    "    if i == \"(\":\n",
    "        st.append(\")\")\n",
    "    if i == \"[\":\n",
    "        st.append(\"]\")\n",
    "    if not st or st.pop() != i:\n",
    "        print(False)\n",
    "print(not st)"
   ]
  },
  {
   "cell_type": "code",
   "execution_count": 58,
   "id": "0f013cda",
   "metadata": {},
   "outputs": [
    {
     "data": {
      "text/plain": [
       "[9]"
      ]
     },
     "execution_count": 58,
     "metadata": {},
     "output_type": "execute_result"
    }
   ],
   "source": [
    "# 3\n",
    "# evaluate reverse polish notation\n",
    "# You are given an array of strings tokens that represents an arithmetic expression in a Reverse Polish Notation.\n",
    "# Evaluate the expression. Return an integer that represents the value of the expression.\n",
    "# Note that:\n",
    "\n",
    "# The valid operators are '+', '-', '*', and '/'.\n",
    "# Each operand may be an integer or another expression.\n",
    "# The division between two integers always truncates toward zero.\n",
    "# There will not be any division by zero.\n",
    "# The input represents a valid arithmetic expression in a reverse polish notation.\n",
    "# The answer and all the intermediate calculations can be represented in a 32-bit integer.\n",
    " \n",
    "\n",
    "# Example 1:\n",
    "\n",
    "# Input: tokens = [\"2\",\"1\",\"+\",\"3\",\"*\"]\n",
    "# Output: 9\n",
    "# Explanation: ((2 + 1) * 3) = 9\n",
    "tokens = [\"2\", \"1\", \"+\", \"3\", \"*\"]\n",
    "res = []\n",
    "\n",
    "for i in range(len(tokens)):\n",
    "    if tokens[i] == \"+\":\n",
    "        res.append(res.pop() + res.pop())\n",
    "    elif tokens[i] == \"-\":\n",
    "        b, a = res.pop(), res.pop()\n",
    "        res.append(a - b)\n",
    "    elif tokens[i] == \"*\":\n",
    "        res.append(res.pop() * res.pop())\n",
    "    elif tokens[i] == \"/\":\n",
    "        b, a = res.pop(), res.pop()\n",
    "        res.append(int(a / b))  \n",
    "    else:\n",
    "        res.append(int(tokens[i]))\n",
    "res"
   ]
  },
  {
   "cell_type": "code",
   "execution_count": 5,
   "id": "57d2e2b0",
   "metadata": {},
   "outputs": [
    {
     "data": {
      "text/plain": [
       "[1, 1, 4, 2, 1, 1, 0, 0]"
      ]
     },
     "execution_count": 5,
     "metadata": {},
     "output_type": "execute_result"
    }
   ],
   "source": [
    "# 4\n",
    "# daily temperatures\n",
    "# Given an array of integers temperatures represents the daily temperatures, \n",
    "# return an array answer such that answer[i] is the number of days you have to wait after the ith day to get a warmer temperature. If there is no future day for which this is possible, keep answer[i] == 0 instead.\n",
    "\n",
    "# Example 1:\n",
    "\n",
    "# Input: temperatures = [73,74,75,71,69,72,76,73]\n",
    "# Output: [1,1,4,2,1,1,0,0]\n",
    "\n",
    "temperatures = [73,74,75,71,69,72,76,73]\n",
    "n = len(temperatures)\n",
    "answer = [0] * n\n",
    "stack = []\n",
    "\n",
    "for i in range(n):\n",
    "    while stack and temperatures[i] > temperatures[stack[-1]]:\n",
    "        index = stack.pop()\n",
    "        answer[index] = i - index\n",
    "    stack.append(i)\n",
    "\n",
    "answer"
   ]
  },
  {
   "cell_type": "code",
   "execution_count": 7,
   "id": "04c3e7c9",
   "metadata": {},
   "outputs": [],
   "source": [
    "# 5\n",
    "# min stack\n",
    "# Design a stack that supports push, pop, top, and retrieving the minimum element in constant time.\n",
    "\n",
    "# Implement the MinStack class:\n",
    "\n",
    "# MinStack() initializes the stack object.\n",
    "# void push(int val) pushes the element val onto the stack.\n",
    "# void pop() removes the element on the top of the stack.\n",
    "# int top() gets the top element of the stack.\n",
    "# int getMin() retrieves the minimum element in the stack.\n",
    "# You must implement a solution with O(1) time complexity for each function.\n",
    "\n",
    "# Example 1:\n",
    "\n",
    "# Input\n",
    "# [\"MinStack\",\"push\",\"push\",\"push\",\"getMin\",\"pop\",\"top\",\"getMin\"]\n",
    "# [[],[-2],[0],[-3],[],[],[],[]]\n",
    "class MinStack:\n",
    "\n",
    "    def __init__(self):\n",
    "        self.st = []\n",
    "        \n",
    "\n",
    "    def push(self, val: int) -> None:\n",
    "        return self.st.append(val)\n",
    "        \n",
    "\n",
    "    def pop(self) -> None:\n",
    "        return  self.st.pop()\n",
    "        \n",
    "\n",
    "    def top(self) -> int:\n",
    "        return self.st[-1]\n",
    "        \n",
    "\n",
    "    def getMin(self) -> int:\n",
    "        return min(self.st)\n"
   ]
  },
  {
   "cell_type": "markdown",
   "id": "bd64c2d2",
   "metadata": {},
   "source": [
    "# Linked list"
   ]
  },
  {
   "cell_type": "code",
   "execution_count": 8,
   "id": "a0c21924",
   "metadata": {},
   "outputs": [],
   "source": [
    "# 1\n",
    "# remove duplicates from sorted list\n",
    "# Given the head of a sorted linked list, delete all duplicates such that each element appears only once. \n",
    "# Return the linked list sorted as well.\n",
    "\n",
    "# Example 1:\n",
    "\n",
    "# Input: head = [1,1,2]\n",
    "# Output: [1,2]\n",
    "\n",
    "head = [1,1,2]\n",
    "def deleteDuplicates(self, head):\n",
    "    curr = head\n",
    "    while curr is not None and curr.next is not None:\n",
    "        if curr.val == curr.next.val:  # Correct comparison of node values\n",
    "            curr.next = curr.next.next  # Skip the duplicate node\n",
    "        else:\n",
    "            curr = curr.next  # Move to the next node\n",
    "    return head"
   ]
  },
  {
   "cell_type": "code",
   "execution_count": 10,
   "id": "01fc0730",
   "metadata": {},
   "outputs": [],
   "source": [
    "# 2\n",
    "# reverse a linked list\n",
    "# Given the head of a singly linked list, reverse the list, and return the reversed list.\n",
    "# Example 1:\n",
    "\n",
    "# Input: head = [1,2,3,4,5]\n",
    "# Output: [5,4,3,2,1]\n",
    "def reverseList(self, head):\n",
    "    st = []\n",
    "    curr = head\n",
    "    while curr:\n",
    "        st.append(curr.val)\n",
    "        curr = curr.next\n",
    "    node = head\n",
    "    for i in range(len(st)):\n",
    "        node.val = st.pop()\n",
    "        node = node.next\n",
    "    return head"
   ]
  },
  {
   "cell_type": "code",
   "execution_count": 11,
   "id": "8d602a8b",
   "metadata": {},
   "outputs": [],
   "source": [
    "# 3\n",
    "# merge 2 sorted list\n",
    "# You are given the heads of two sorted linked lists list1 and list2.\n",
    "# Merge the two lists into one sorted list. The list should be made by splicing together the nodes of the first two lists.\n",
    "# Return the head of the merged linked list.\n",
    "\n",
    "# Example 1:\n",
    "\n",
    "# Input: list1 = [1,2,4], list2 = [1,3,4]\n",
    "# Output: [1,1,2,3,4,4]\n",
    "def mergeTwoLists(self, list1, list2):\n",
    "    head = ListNode()\n",
    "    curr = head\n",
    "    while list1 and list2:\n",
    "        if list1.val < list2.val:\n",
    "            curr.next = list1\n",
    "            list1 = list1.next\n",
    "        else:\n",
    "            curr.next = list2\n",
    "            list2 = list2.next\n",
    "        curr = curr.next\n",
    "    curr.next = list1 or list2\n",
    "    return head.next\n"
   ]
  },
  {
   "cell_type": "code",
   "execution_count": 13,
   "id": "00c319da",
   "metadata": {},
   "outputs": [],
   "source": [
    "# 4\n",
    "# linked list cycle\n",
    "# Given head, the head of a linked list, determine if the linked list has a cycle in it.\n",
    "# There is a cycle in a linked list if there is some node in the list that can be reached \n",
    "# again by continuously following the next pointer. Internally, pos is used to denote the index of the node that tail's next pointer is connected to. Note that pos is not passed as a parameter.\n",
    "# Return true if there is a cycle in the linked list. Otherwise, return false.\n",
    "\n",
    "# Example 1:\n",
    "\n",
    "# Input: head = [3,2,0,-4], pos = 1\n",
    "# Output: true\n",
    "# Explanation: There is a cycle in the linked list, where the tail connects to the 1st node (0-indexed).\n",
    "\n",
    "def hasCycle(self, head):\n",
    "    slow = head\n",
    "    fast = head\n",
    "    while fast and fast.next:\n",
    "        slow = slow.next\n",
    "        fast = fast.next.next\n",
    "        if slow == fast:\n",
    "            return True\n",
    "    return False"
   ]
  },
  {
   "cell_type": "code",
   "execution_count": 15,
   "id": "c7d1b790",
   "metadata": {},
   "outputs": [],
   "source": [
    "# 4\n",
    "# middle of linked list\n",
    "# Given the head of a singly linked list, return the middle node of the linked list.\n",
    "# If there are two middle nodes, return the second middle node.\n",
    "\n",
    "# Example 1:\n",
    "\n",
    "# Input: head = [1,2,3,4,5]\n",
    "# Output: [3,4,5]\n",
    "# Explanation: The middle node of the list is node 3.\n",
    "def middleNode(self, head):\n",
    "    slow = head\n",
    "    fast = head\n",
    "\n",
    "    while fast and fast.next:\n",
    "        fast = fast.next.next\n",
    "        slow = slow.next\n",
    "\n",
    "    return slow"
   ]
  },
  {
   "cell_type": "code",
   "execution_count": 17,
   "id": "188260bc",
   "metadata": {},
   "outputs": [],
   "source": [
    "# 5\n",
    "# remove nth node from the end of the list\n",
    "# Given the head of a linked list, remove the nth node from the end of the list and return its head.\n",
    "# Example 1:\n",
    "\n",
    "# Input: head = [1,2,3,4,5], n = 2\n",
    "# Output: [1,2,3,5]\n",
    "def removeNthFromEnd(self, head, n):\n",
    "    dummy = ListNode(0)\n",
    "    dummy.next = head\n",
    "    length = 0\n",
    "    current = head\n",
    "\n",
    "    while current:\n",
    "        length += 1\n",
    "        current = current.next\n",
    "\n",
    "    remove_pos = length - n # find position\n",
    "\n",
    "    current = dummy\n",
    "    for _ in range(remove_pos):\n",
    "        current = current.next\n",
    "\n",
    "    current.next = current.next.next\n",
    "\n",
    "    return dummy.next"
   ]
  },
  {
   "cell_type": "markdown",
   "id": "0db078c2",
   "metadata": {},
   "source": [
    "# Binary search"
   ]
  },
  {
   "cell_type": "code",
   "execution_count": 23,
   "id": "191f53ec",
   "metadata": {},
   "outputs": [
    {
     "name": "stdout",
     "output_type": "stream",
     "text": [
      "4\n"
     ]
    }
   ],
   "source": [
    "# 1\n",
    "# binary search\n",
    "# Given an array of integers nums which is sorted in ascending order, and an integer target, write a \n",
    "# function to search target in nums. If target exists, then return its index. Otherwise, return -1.\n",
    "# You must write an algorithm with O(log n) runtime complexity.\n",
    "\n",
    "# Example 1:\n",
    "\n",
    "# Input: nums = [-1,0,3,5,9,12], target = 9\n",
    "# Output: 4\n",
    "# Explanation: 9 exists in nums and its index is 4\n",
    "\n",
    "nums = [-1,0,3,5,9,12]\n",
    "target = 9\n",
    "l = 0\n",
    "r = len(nums)-1\n",
    "while l <= r:\n",
    "    mid = (l+r) // 2\n",
    "    if nums[mid] == target:\n",
    "        print(mid)\n",
    "        break\n",
    "    elif nums[mid] > target:\n",
    "        r = mid - 1\n",
    "    else:\n",
    "        l = mid + 1"
   ]
  },
  {
   "cell_type": "code",
   "execution_count": 25,
   "id": "bbb98467",
   "metadata": {},
   "outputs": [
    {
     "name": "stdout",
     "output_type": "stream",
     "text": [
      "2\n",
      "2\n"
     ]
    }
   ],
   "source": [
    "# 2\n",
    "# search insert position\n",
    "# Given a sorted array of distinct integers and a target value, return the index if the target is found. \n",
    "# If not, return the index where it would be if it were inserted in order.\n",
    "# You must write an algorithm with O(log n) runtime complexity.\n",
    "\n",
    "# Example 1:\n",
    "\n",
    "# Input: nums = [1,3,5,6], target = 5\n",
    "# Output: 2\n",
    "\n",
    "nums = [1,3,5,6]\n",
    "target = 5\n",
    "l = 0\n",
    "r = len(nums)-1\n",
    "while l <= r:\n",
    "    mid = (l+r) // 2\n",
    "    if nums[mid] == target:\n",
    "        print(mid)\n",
    "        break\n",
    "    elif nums[mid] > target:\n",
    "        r = mid - 1\n",
    "    elif nums[mid]<target:\n",
    "        l = mid + 1\n",
    "    else:\n",
    "        print(mid)\n",
    "if nums[mid] < target:\n",
    "    print(mid+1)\n",
    "else:\n",
    "    print(mid)"
   ]
  },
  {
   "cell_type": "code",
   "execution_count": 28,
   "id": "585afa6f",
   "metadata": {},
   "outputs": [
    {
     "data": {
      "text/plain": [
       "4"
      ]
     },
     "execution_count": 28,
     "metadata": {},
     "output_type": "execute_result"
    }
   ],
   "source": [
    "# 3\n",
    "# first bad version\n",
    "# You are a product manager and currently leading a team to develop a new product. Unfortunately, \n",
    "# the latest version of your product fails the quality check. Since each version is developed based on the previous version, all the versions after a bad version are also bad.\n",
    "# Suppose you have n versions [1, 2, ..., n] and you want to find out the first bad one, which causes \n",
    "# all the following ones to be bad.\n",
    "# You are given an API bool isBadVersion(version) which returns whether version is bad. \n",
    "# Implement a function to find the first bad version. You should minimize the number of calls to the API.\n",
    "\n",
    "# Example 1:\n",
    "\n",
    "# Input: n = 5, bad = 4\n",
    "# Output: 4\n",
    "# Explanation:\n",
    "# call isBadVersion(3) -> false\n",
    "# call isBadVersion(5) -> true\n",
    "# call isBadVersion(4) -> true\n",
    "# Then 4 is the first bad version.\n",
    "n = 5\n",
    "bad = 4\n",
    "l = 0\n",
    "r = n\n",
    "def isBadVersion(m):\n",
    "    return m >= bad\n",
    "while l < r:\n",
    "    m = (l+r)//2\n",
    "    if isBadVersion(m):\n",
    "        r = m\n",
    "    else:\n",
    "        l = m+1\n",
    "l"
   ]
  },
  {
   "cell_type": "code",
   "execution_count": 31,
   "id": "9bf97237",
   "metadata": {},
   "outputs": [
    {
     "name": "stdout",
     "output_type": "stream",
     "text": [
      "True\n"
     ]
    }
   ],
   "source": [
    "# 4\n",
    "# valid perfect square\n",
    "# Given a positive integer num, return true if num is a perfect square or false otherwise.\n",
    "# A perfect square is an integer that is the square of an integer. In other words, it is the product of some integer with itself.\n",
    "# You must not use any built-in library function, such as sqrt.\n",
    "\n",
    "# Example 1:\n",
    "\n",
    "# Input: num = 16\n",
    "# Output: true\n",
    "# Explanation: We return true because 4 * 4 = 16 and 4 is an integer.\n",
    "# Example 2:\n",
    "\n",
    "# Input: num = 14\n",
    "# Output: false\n",
    "# Explanation: We return false because 3.742 * 3.742 = 14 and 3.742 is not an integer.\n",
    "\n",
    "num = 16\n",
    "l = 0\n",
    "r = num\n",
    "\n",
    "while l <= r:\n",
    "    mid = (l + r) // 2\n",
    "    m_sq = mid * mid\n",
    "    if m_sq == num:\n",
    "        print(True)\n",
    "        break\n",
    "    elif m_sq > num:\n",
    "        r = mid - 1\n",
    "    else:\n",
    "        l = mid + 1\n",
    "else:\n",
    "    print(False)\n"
   ]
  },
  {
   "cell_type": "code",
   "execution_count": 12,
   "id": "0ea5e953",
   "metadata": {},
   "outputs": [
    {
     "name": "stdout",
     "output_type": "stream",
     "text": [
      "True\n"
     ]
    }
   ],
   "source": [
    "# 5\n",
    "# search in a 2d matrix\n",
    "# you are given an m x n integer matrix matrix with the following two properties:\n",
    "# Each row is sorted in non-decreasing order.\n",
    "# The first integer of each row is greater than the last integer of the previous row.\n",
    "# Given an integer target, return true if target is in matrix or false otherwise.\n",
    "# You must write a solution in O(log(m * n)) time complexity.\n",
    "\n",
    "# Example 1:\n",
    "\n",
    "# Input: matrix = [[1,3,5,7],[10,11,16,20],[23,30,34,60]], target = 3\n",
    "# Output: true\n",
    "matrix = [[1,3,5,7],[10,11,16,20],[23,30,34,60]]\n",
    "target = 3\n",
    "m = len(matrix)\n",
    "n = len(matrix[0])\n",
    "t = m * n\n",
    "l = 0\n",
    "r = t - 1\n",
    "\n",
    "while l <= r:\n",
    "    m = (l + r) // 2\n",
    "    i = m // n\n",
    "    j = m % n\n",
    "    mid_num = matrix[i][j]\n",
    "    if target == mid_num:\n",
    "        print(True)\n",
    "        break\n",
    "    elif target < mid_num:\n",
    "        r = m - 1\n",
    "    else:\n",
    "        l = m + 1\n",
    "\n"
   ]
  },
  {
   "cell_type": "code",
   "execution_count": 14,
   "id": "e4f442d8",
   "metadata": {},
   "outputs": [
    {
     "data": {
      "text/plain": [
       "1"
      ]
     },
     "execution_count": 14,
     "metadata": {},
     "output_type": "execute_result"
    }
   ],
   "source": [
    "# 6\n",
    "# find minimum in the rotated sorted array\n",
    "# Suppose an array of length n sorted in ascending order is rotated between 1 and n times. \n",
    "# For example, the array nums = [0,1,2,4,5,6,7] might become:\n",
    "\n",
    "# [4,5,6,7,0,1,2] if it was rotated 4 times.\n",
    "# [0,1,2,4,5,6,7] if it was rotated 7 times.\n",
    "# Notice that rotating an array [a[0], a[1], a[2], ..., a[n-1]] 1 time results in the array \n",
    "# [a[n-1], a[0], a[1], a[2], ..., a[n-2]].\n",
    "# Given the sorted rotated array nums of unique elements, return the minimum element of this array.\n",
    "# You must write an algorithm that runs in O(log n) time.\n",
    "\n",
    "# Example 1:\n",
    "\n",
    "# Input: nums = [3,4,5,1,2]\n",
    "# Output: 1\n",
    "# Explanation: The original array was [1,2,3,4,5] rotated 3 times.\n",
    "\n",
    "nums = [3,4,5,1,2]\n",
    "n = len(nums)\n",
    "l = 0\n",
    "r = n-1\n",
    "while l < r:\n",
    "    m = (l+r)//2\n",
    "    if nums[m] > nums[r]:\n",
    "        l = m + 1\n",
    "    else:\n",
    "        r = m\n",
    "nums[l]"
   ]
  },
  {
   "cell_type": "code",
   "execution_count": 23,
   "id": "9478d3c2",
   "metadata": {},
   "outputs": [
    {
     "name": "stdout",
     "output_type": "stream",
     "text": [
      "4\n"
     ]
    }
   ],
   "source": [
    "# 7\n",
    "# Search in rotated sorted array\n",
    "# There is an integer array nums sorted in ascending order (with distinct values).\n",
    "# Prior to being passed to your function, nums is possibly rotated at an unknown pivot index k \n",
    "# (1 <= k < nums.length) such that the resulting array is [nums[k], nums[k+1], ..., nums[n-1], \n",
    "# nums[0], nums[1], ..., nums[k-1]] (0-indexed). \n",
    "# For example, [0,1,2,4,5,6,7] might be rotated at pivot index 3 and become [4,5,6,7,0,1,2].\n",
    "# Given the array nums after the possible rotation and an integer target, return the index of target \n",
    "# if it is in nums, or -1 if it is not in nums.\n",
    "# You must write an algorithm with O(log n) runtime complexity.\n",
    "\n",
    "# Example 1:\n",
    "\n",
    "# Input: nums = [4,5,6,7,0,1,2], target = 0\n",
    "# Output: 4\n",
    "nums = [4,5,6,7,0,1,2]\n",
    "target = 0\n",
    "\n",
    "l, r = 0, len(nums) - 1\n",
    "\n",
    "while l < r:\n",
    "    m = (l + r) // 2\n",
    "    if nums[m] > nums[r]:\n",
    "        l = m + 1\n",
    "    else:\n",
    "        r = m\n",
    "\n",
    "pivot = l\n",
    "l, r = 0, len(nums) - 1\n",
    "if target >= nums[pivot] and target <= nums[r]:\n",
    "    l = pivot\n",
    "else:\n",
    "    r = pivot - 1\n",
    "\n",
    "while l <= r:\n",
    "    m = (l + r) // 2\n",
    "    if nums[m] == target:\n",
    "        print(m)\n",
    "        break\n",
    "    elif nums[m] < target:\n",
    "        l = m + 1\n",
    "    else:\n",
    "        r = m - 1\n",
    "else:\n",
    "    print(-1)"
   ]
  },
  {
   "cell_type": "markdown",
   "id": "aece13b2",
   "metadata": {},
   "source": [
    "# Sliding window"
   ]
  },
  {
   "cell_type": "code",
   "execution_count": 1,
   "id": "7ebc605c",
   "metadata": {},
   "outputs": [
    {
     "data": {
      "text/plain": [
       "12.25"
      ]
     },
     "execution_count": 1,
     "metadata": {},
     "output_type": "execute_result"
    }
   ],
   "source": [
    "# 1\n",
    "# maximum average subarray 1\n",
    "# You are given an integer array nums consisting of n elements, and an integer k.\n",
    "# Find a contiguous subarray whose length is equal to k that has the maximum average \n",
    "# value and return this value. Any answer with a calculation error less than 10-5 will be accepted.\n",
    "\n",
    "# Example 1:\n",
    "\n",
    "# Input: nums = [1,12,-5,-6,50,3], k = 4\n",
    "# Output: 12.75000\n",
    "# Explanation: Maximum average is (12 - 5 - 6 + 50) / 4 = 51 / 4 = 12.75\n",
    "\n",
    "nums = [1,12,-5,-6,50,3]\n",
    "k = 4\n",
    "n = len(nums)\n",
    "m_avg = sum(nums[:k])/k\n",
    "curr_sum = 0\n",
    "for i in range(k,n):\n",
    "    curr_sum += nums[i]\n",
    "    curr_sum -= nums[i-k]\n",
    "    avg = curr_sum/k\n",
    "    m_avg = max(m_avg,avg)\n",
    "m_avg\n",
    "# sub array\n",
    "# sub = []\n",
    "# k = 4\n",
    "# for i in range(len(nums) - k+1):\n",
    "#     sub.append(nums[i:i+k])"
   ]
  },
  {
   "cell_type": "code",
   "execution_count": 14,
   "id": "fc66619d",
   "metadata": {},
   "outputs": [
    {
     "data": {
      "text/plain": [
       "6"
      ]
     },
     "execution_count": 14,
     "metadata": {},
     "output_type": "execute_result"
    }
   ],
   "source": [
    "# 2\n",
    "# Max consecutive 1s\n",
    "# Given a binary array nums and an integer k, return the maximum number of consecutive 1's \n",
    "# in the array if you can flip at most k 0's.\n",
    "\n",
    "# Example 1:\n",
    "\n",
    "# Input: nums = [1,1,1,0,0,0,1,1,1,1,0], k = 2\n",
    "# Output: 6\n",
    "# Explanation: [1,1,1,0,0,1,1,1,1,1,1]\n",
    "# Bolded numbers were flipped from 0 to 1. The longest subarray is underlined.\n",
    "\n",
    "nums = [1,1,1,0,0,0,1,1,1,1,0]\n",
    "k = 2\n",
    "l=r=0    \n",
    "for r in range(len(nums)):\n",
    "    if nums[r] == 0:\n",
    "        k-=1\n",
    "    if k<0:\n",
    "        if nums[l] == 0:\n",
    "            k+=1 # regain the reduced values of k because we going forward in the window\n",
    "        l+=1\n",
    "r-l+1 # r - l gives the window size and + 1 because r and l started from 0"
   ]
  },
  {
   "cell_type": "code",
   "execution_count": 16,
   "id": "1a00c34c",
   "metadata": {},
   "outputs": [
    {
     "data": {
      "text/plain": [
       "3"
      ]
     },
     "execution_count": 16,
     "metadata": {},
     "output_type": "execute_result"
    }
   ],
   "source": [
    "# 3\n",
    "# longest substring without repeating chars\n",
    "# Given a string s, find the length of the longest \n",
    "# substring\n",
    "# without repeating characters.\n",
    "\n",
    "# Example 1:\n",
    "\n",
    "# Input: s = \"abcabcbb\"\n",
    "# Output: 3\n",
    "# Explanation: The answer is \"abc\", with the length of 3.\n",
    "s = \"abcabcbb\"\n",
    "l = 0\n",
    "long = 0\n",
    "sett = set()\n",
    "for r in range(len(s)):\n",
    "    while s[r] in sett:\n",
    "        sett.remove(s[l])\n",
    "        l += 1\n",
    "    w = (r-l)+1\n",
    "    long = max(w,long)\n",
    "    sett.add(s[r])\n",
    "long"
   ]
  },
  {
   "cell_type": "code",
   "execution_count": 17,
   "id": "e60af3fd",
   "metadata": {},
   "outputs": [
    {
     "data": {
      "text/plain": [
       "4"
      ]
     },
     "execution_count": 17,
     "metadata": {},
     "output_type": "execute_result"
    }
   ],
   "source": [
    "# 4\n",
    "# Longest repeating character replacement\n",
    "# You are given a string s and an integer k. You can choose any character of the string and change it to any other \n",
    "# uppercase English character. You can perform this operation at most k times.\n",
    "# Return the length of the longest substring containing the same letter you can get after performing the above operations.\n",
    "\n",
    "# Example 1:\n",
    "\n",
    "# Input: s = \"ABAB\", k = 2\n",
    "# Output: 4\n",
    "# Explanation: Replace the two 'A's with two 'B's or vice versa.\n",
    "\n",
    "s = \"ABAB\"\n",
    "k = 2\n",
    "lon = 0\n",
    "l = 0\n",
    "counts = [0]*26\n",
    "for r in range(len(s)):\n",
    "    counts[ord(s[r])-65] += 1 # increasing count for each character\n",
    "    while (r-l+1) - max(counts) > k: # k is the number of char that can be change\n",
    "        counts[ord(s[l])-65] -= 1\n",
    "        l += 1\n",
    "    lon = max(lon,(r-l+1))\n",
    "lon"
   ]
  },
  {
   "cell_type": "code",
   "execution_count": 6,
   "id": "7d182657",
   "metadata": {},
   "outputs": [
    {
     "data": {
      "text/plain": [
       "2"
      ]
     },
     "execution_count": 6,
     "metadata": {},
     "output_type": "execute_result"
    }
   ],
   "source": [
    "# 5\n",
    "# minimum size subarray sum\n",
    "# Given an array of positive integers nums and a positive integer target, return the minimal length of a \n",
    "# subarray whose sum is greater than or equal to target. If there is no such subarray, return 0 instead.\n",
    "\n",
    "# Example 1:\n",
    "\n",
    "# Input: target = 7, nums = [2,3,1,2,4,3]\n",
    "# Output: 2\n",
    "# Explanation: The subarray [4,3] has the minimal length under the problem constraint.\n",
    "\n",
    "target = 7\n",
    "nums = [2,3,1,2,4,3]\n",
    "l = 0\n",
    "minl = float('inf')\n",
    "summ = 0\n",
    "for r in range(len(nums)):\n",
    "    summ += nums[r]\n",
    "    while summ >= target:\n",
    "        minl = min(minl,r-l+1)\n",
    "        summ -= nums[l]\n",
    "        l += 1\n",
    "minl"
   ]
  },
  {
   "cell_type": "code",
   "execution_count": 13,
   "id": "18ac5cfe",
   "metadata": {},
   "outputs": [
    {
     "name": "stdout",
     "output_type": "stream",
     "text": [
      "True\n"
     ]
    }
   ],
   "source": [
    "# 6 \n",
    "# permutations in string\n",
    "# Given two strings s1 and s2, return true if s2 contains a permutation of s1, or false otherwise.\n",
    "# In other words, return true if one of s1's permutations is the substring of s2.\n",
    "\n",
    "# Example 1:\n",
    "\n",
    "# Input: s1 = \"ab\", s2 = \"eidbaooo\"\n",
    "# Output: true\n",
    "# Explanation: s2 contains one permutation of s1 (\"ba\").\n",
    "# Example 2:\n",
    "\n",
    "# Input: s1 = \"ab\", s2 = \"eidboaoo\"\n",
    "# Output: false\n",
    "from collections import Counter\n",
    "s1 = \"ab\"\n",
    "s2 = \"eidbaooo\"\n",
    "n1 = len(s1)\n",
    "n2 = len(s2)\n",
    "\n",
    "s1_c = [0]*26\n",
    "s2_c = [0]*26\n",
    "\n",
    "for i in range(n1):\n",
    "    s1_c[ord(s1[i])-97] += 1\n",
    "    s2_c[ord(s2[i])-97] += 1\n",
    "\n",
    "if s1_c == s2_c:\n",
    "    print(True)\n",
    "\n",
    "for i in range(n1,n2):\n",
    "    s2_c[ord(s2[i]) - 97] += 1\n",
    "    s2_c[ord(s2[i-n1]) - ord('a')] -= 1\n",
    "    if s1_c == s2_c:\n",
    "        print(True)"
   ]
  },
  {
   "cell_type": "code",
   "execution_count": null,
   "id": "9f2e8030",
   "metadata": {},
   "outputs": [],
   "source": [
    "# 7\n",
    "# invert binary tree\n",
    "# Given the root of a binary tree, invert the tree, and return its root.\n",
    "# Example 1:\n",
    "\n",
    "# Input: root = [4,2,7,1,3,6,9]\n",
    "# Output: [4,7,2,9,6,3,1]\n",
    "\n",
    "# Definition for a binary tree node.\n",
    "# class TreeNode:\n",
    "#     def __init__(self, val=0, left=None, right=None):\n",
    "#         self.val = val\n",
    "#         self.left = left\n",
    "#         self.right = right\n",
    "class Solution:\n",
    "    def invertTree(self, root: Optional[TreeNode]) -> Optional[TreeNode]:\n",
    "        if root is None:\n",
    "            return None\n",
    "        root.left, root.right = root.right,root.left\n",
    "        self.invertTree(root.left)\n",
    "        self.invertTree(root.right)\n",
    "        return root\n",
    "        \n",
    "root = [4,2,7,1,3,6,9]\n"
   ]
  },
  {
   "cell_type": "code",
   "execution_count": null,
   "id": "79d63d93",
   "metadata": {},
   "outputs": [],
   "source": []
  },
  {
   "cell_type": "code",
   "execution_count": null,
   "id": "a65362db",
   "metadata": {},
   "outputs": [],
   "source": []
  },
  {
   "cell_type": "code",
   "execution_count": null,
   "id": "75bf13ac",
   "metadata": {},
   "outputs": [],
   "source": []
  }
 ],
 "metadata": {
  "kernelspec": {
   "display_name": "Python 3 (ipykernel)",
   "language": "python",
   "name": "python3"
  },
  "language_info": {
   "codemirror_mode": {
    "name": "ipython",
    "version": 3
   },
   "file_extension": ".py",
   "mimetype": "text/x-python",
   "name": "python",
   "nbconvert_exporter": "python",
   "pygments_lexer": "ipython3",
   "version": "3.11.5"
  }
 },
 "nbformat": 4,
 "nbformat_minor": 5
}
