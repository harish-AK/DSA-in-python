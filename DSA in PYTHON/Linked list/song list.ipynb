{
 "cells": [
  {
   "cell_type": "code",
   "execution_count": 2,
   "id": "80fd0563",
   "metadata": {},
   "outputs": [
    {
     "name": "stdout",
     "output_type": "stream",
     "text": [
      "1\n",
      "2\n"
     ]
    },
    {
     "ename": "AttributeError",
     "evalue": "'NoneType' object has no attribute 'next'",
     "output_type": "error",
     "traceback": [
      "\u001b[1;31m---------------------------------------------------------------------------\u001b[0m",
      "\u001b[1;31mAttributeError\u001b[0m                            Traceback (most recent call last)",
      "Cell \u001b[1;32mIn[2], line 62\u001b[0m\n\u001b[0;32m     60\u001b[0m     player\u001b[38;5;241m.\u001b[39maddSong(songId)\n\u001b[0;32m     61\u001b[0m \u001b[38;5;28;01melif\u001b[39;00m query \u001b[38;5;241m==\u001b[39m \u001b[38;5;241m2\u001b[39m:\n\u001b[1;32m---> 62\u001b[0m     player\u001b[38;5;241m.\u001b[39mplayNext()\n\u001b[0;32m     63\u001b[0m \u001b[38;5;28;01melif\u001b[39;00m query \u001b[38;5;241m==\u001b[39m \u001b[38;5;241m3\u001b[39m:\n\u001b[0;32m     64\u001b[0m     player\u001b[38;5;241m.\u001b[39mplayPrev()\n",
      "Cell \u001b[1;32mIn[2], line 29\u001b[0m, in \u001b[0;36mMusicPlayer.playNext\u001b[1;34m(self)\u001b[0m\n\u001b[0;32m     28\u001b[0m \u001b[38;5;28;01mdef\u001b[39;00m \u001b[38;5;21mplayNext\u001b[39m(\u001b[38;5;28mself\u001b[39m):\n\u001b[1;32m---> 29\u001b[0m     \u001b[38;5;28;01mif\u001b[39;00m \u001b[38;5;28mself\u001b[39m\u001b[38;5;241m.\u001b[39mcurrentSong\u001b[38;5;241m.\u001b[39mnext \u001b[38;5;129;01mis\u001b[39;00m \u001b[38;5;129;01mnot\u001b[39;00m \u001b[38;5;28;01mNone\u001b[39;00m:\n\u001b[0;32m     30\u001b[0m         \u001b[38;5;28mself\u001b[39m\u001b[38;5;241m.\u001b[39mcurrentSong \u001b[38;5;241m=\u001b[39m \u001b[38;5;28mself\u001b[39m\u001b[38;5;241m.\u001b[39mcurrentSong\u001b[38;5;241m.\u001b[39mnext\n",
      "\u001b[1;31mAttributeError\u001b[0m: 'NoneType' object has no attribute 'next'"
     ]
    }
   ],
   "source": [
    "class Node:\n",
    "    def __init__(self, songId):\n",
    "        self.songId = songId\n",
    "        self.prev = None\n",
    "        self.next = None\n",
    "\n",
    "class MusicPlayer:\n",
    "    def __init__(self):\n",
    "        self.head = None\n",
    "        self.currentSong = None\n",
    "\n",
    "    # Function to add a song to the end of the list\n",
    "    def addSong(self, songId):\n",
    "        newNode = Node(songId)\n",
    "        \n",
    "        if self.head is None:\n",
    "            self.head = newNode\n",
    "            self.currentSong = newNode\n",
    "            return\n",
    "\n",
    "        temp = self.head\n",
    "        while temp.next is not None:\n",
    "            temp = temp.next\n",
    "        temp.next = newNode\n",
    "        newNode.prev = temp\n",
    "\n",
    "    # Function to play the next song\n",
    "    def playNext(self):\n",
    "        if self.currentSong.next is not None:\n",
    "            self.currentSong = self.currentSong.next\n",
    "\n",
    "    # Function to play the previous song\n",
    "    def playPrev(self):\n",
    "        if self.currentSong.prev is not None:\n",
    "            self.currentSong = self.currentSong.prev\n",
    "\n",
    "    # Function to switch to a specific song\n",
    "    def switchSong(self, songId):\n",
    "        temp = self.head\n",
    "        while temp is not None:\n",
    "            if temp.songId == songId:\n",
    "                self.currentSong = temp\n",
    "                return\n",
    "            temp = temp.next\n",
    "\n",
    "    # Function to return the songId of the current song playing\n",
    "    def current(self):\n",
    "        return self.currentSong.songId\n",
    "\n",
    "# Main function to test the music player\n",
    "if __name__ == \"__main__\":\n",
    "    player = MusicPlayer()\n",
    "    queries = int(input())\n",
    "    while queries > 0:\n",
    "        line = input().split()\n",
    "        query = int(line[0])\n",
    "\n",
    "        if query == 1:\n",
    "            songId = int(line[1])\n",
    "            player.addSong(songId)\n",
    "        elif query == 2:\n",
    "            player.playNext()\n",
    "        elif query == 3:\n",
    "            player.playPrev()\n",
    "        elif query == 4:\n",
    "            songId = int(line[1])\n",
    "            player.switchSong(songId)\n",
    "        elif query == 5:\n",
    "            print(player.current())\n",
    "        else:\n",
    "            print(\"Invalid query!\")\n",
    "        queries -= 1"
   ]
  },
  {
   "cell_type": "markdown",
   "id": "380bccc0",
   "metadata": {},
   "source": []
  }
 ],
 "metadata": {
  "kernelspec": {
   "display_name": "Python 3 (ipykernel)",
   "language": "python",
   "name": "python3"
  },
  "language_info": {
   "codemirror_mode": {
    "name": "ipython",
    "version": 3
   },
   "file_extension": ".py",
   "mimetype": "text/x-python",
   "name": "python",
   "nbconvert_exporter": "python",
   "pygments_lexer": "ipython3",
   "version": "3.11.5"
  }
 },
 "nbformat": 4,
 "nbformat_minor": 5
}
