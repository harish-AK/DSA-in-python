{
 "cells": [
  {
   "cell_type": "code",
   "execution_count": 6,
   "id": "f4740ffc",
   "metadata": {},
   "outputs": [
    {
     "name": "stdout",
     "output_type": "stream",
     "text": [
      "1 + 3 = 4\n"
     ]
    }
   ],
   "source": [
    "# 2 sum\n",
    "a = [1,2,3,4]\n",
    "tar = 4\n",
    "l = 0\n",
    "r = len(a)-1\n",
    "while l < r:\n",
    "    res = a[l] + a[r]\n",
    "    if res == tar:\n",
    "        print(a[l],\"+\",a[r],\"=\",tar)\n",
    "        break\n",
    "    elif res < tar:\n",
    "        l += 1\n",
    "    else:\n",
    "        r -= 1"
   ]
  },
  {
   "cell_type": "code",
   "execution_count": null,
   "id": "ea1faca3",
   "metadata": {},
   "outputs": [],
   "source": [
    "# 3 sum\n",
    "a = [-1,0,1,2,-1,-4]\n",
    "l = 0\n",
    "r = len(a) - 1\n",
    "while l < r:\n",
    "    "
   ]
  },
  {
   "cell_type": "code",
   "execution_count": 21,
   "id": "f5af677b",
   "metadata": {},
   "outputs": [
    {
     "name": "stdout",
     "output_type": "stream",
     "text": [
      "[1, 2, 3, 4, 5]\n"
     ]
    }
   ],
   "source": [
    "# remove duplicate elements\n",
    "a = [1, 2, 2, 3, 4, 5]\n",
    "l = 0\n",
    "r = len(a) - 1\n",
    "\n",
    "while l < r:\n",
    "    if a[l] == a[l + 1]:\n",
    "        # Shift subsequent elements to the left\n",
    "        for i in range(l + 1, r): # range 1 to 6\n",
    "            a[i] = a[i + 1]\n",
    "        r -= 1  # Reduce the length of the array\n",
    "    else:\n",
    "        l += 1\n",
    "\n",
    "print(a[:r+1])  # Print the array without duplicates\n"
   ]
  },
  {
   "cell_type": "code",
   "execution_count": 7,
   "id": "58fcc7fd",
   "metadata": {},
   "outputs": [
    {
     "data": {
      "text/plain": [
       "[(-1, 0, 1), (-1, -1, 2)]"
      ]
     },
     "execution_count": 7,
     "metadata": {},
     "output_type": "execute_result"
    }
   ],
   "source": [
    "# 3 sum\n",
    "nums = [-1,0,1,2,-1,-4]\n",
    "target = 0\n",
    "nums.sort()\n",
    "s = set()\n",
    "output = []\n",
    "for i in range(len(nums)):\n",
    "    j = i + 1\n",
    "    k = len(nums) - 1\n",
    "    while j < k:\n",
    "        sum = nums[i] + nums[j] + nums[k]\n",
    "        if sum == target:\n",
    "            s.add((nums[i], nums[j], nums[k]))\n",
    "            j += 1\n",
    "            k -= 1\n",
    "        elif sum < target:\n",
    "            j += 1\n",
    "        else:\n",
    "            k -= 1\n",
    "output = list(s)\n",
    "output"
   ]
  },
  {
   "cell_type": "code",
   "execution_count": 8,
   "id": "9c4a64da",
   "metadata": {},
   "outputs": [
    {
     "data": {
      "text/plain": [
       "[(-2, -1, 1, 2), (-1, 0, 0, 1), (-2, 0, 0, 2)]"
      ]
     },
     "execution_count": 8,
     "metadata": {},
     "output_type": "execute_result"
    }
   ],
   "source": [
    "# 4 sum \n",
    "nums = [1,0,-1,0,-2,2]\n",
    "target = 0\n",
    "nums.sort()\n",
    "s = set()\n",
    "output = []\n",
    "for i in range(len(nums)):\n",
    "    for j in range(i+1,len(nums)):\n",
    "        k = j + 1\n",
    "        l = len(nums) - 1\n",
    "        while k < l:\n",
    "            sum = nums[i] + nums[j] + nums[k] + nums[l]\n",
    "            if sum == target:\n",
    "                s.add((nums[i], nums[j], nums[k], nums[l]))\n",
    "                k += 1\n",
    "                l -= 1\n",
    "            elif sum < target:\n",
    "                k += 1\n",
    "            else:\n",
    "                l -= 1\n",
    "output = list(s)\n",
    "output"
   ]
  },
  {
   "cell_type": "code",
   "execution_count": null,
   "id": "3268ad2d",
   "metadata": {},
   "outputs": [],
   "source": []
  }
 ],
 "metadata": {
  "kernelspec": {
   "display_name": "Python 3 (ipykernel)",
   "language": "python",
   "name": "python3"
  },
  "language_info": {
   "codemirror_mode": {
    "name": "ipython",
    "version": 3
   },
   "file_extension": ".py",
   "mimetype": "text/x-python",
   "name": "python",
   "nbconvert_exporter": "python",
   "pygments_lexer": "ipython3",
   "version": "3.11.5"
  }
 },
 "nbformat": 4,
 "nbformat_minor": 5
}
