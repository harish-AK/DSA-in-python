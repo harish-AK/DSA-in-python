{
 "cells": [
  {
   "cell_type": "markdown",
   "id": "b0edc523",
   "metadata": {},
   "source": [
    "# Hash map"
   ]
  },
  {
   "cell_type": "code",
   "execution_count": 1,
   "id": "8e6dbafb",
   "metadata": {},
   "outputs": [],
   "source": [
    "# hackerrank dictionaries and map \n",
    "# Sample Input\n",
    "# 3\n",
    "# sam 99912222\n",
    "# tom 11122222\n",
    "# harry 12299933\n",
    "# sam\n",
    "# edward\n",
    "# harry\n",
    "# Sample Output\n",
    "# 2/2\n",
    "# sam=99912222\n",
    "# Not found\n",
    "# harry=12299933\n"
   ]
  },
  {
   "cell_type": "code",
   "execution_count": 5,
   "id": "9ea27a0b",
   "metadata": {},
   "outputs": [
    {
     "name": "stdout",
     "output_type": "stream",
     "text": [
      "1\n",
      "tom 123456\n",
      "tom\n",
      "tom 123456\n",
      "ram\n"
     ]
    },
    {
     "ename": "KeyError",
     "evalue": "'ram'",
     "output_type": "error",
     "traceback": [
      "\u001b[1;31m---------------------------------------------------------------------------\u001b[0m",
      "\u001b[1;31mKeyError\u001b[0m                                  Traceback (most recent call last)",
      "Cell \u001b[1;32mIn[5], line 9\u001b[0m\n\u001b[0;32m      7\u001b[0m name \u001b[38;5;241m=\u001b[39m \u001b[38;5;28minput\u001b[39m()\u001b[38;5;241m.\u001b[39mstrip()\n\u001b[0;32m      8\u001b[0m \u001b[38;5;28;01mif\u001b[39;00m name:\n\u001b[1;32m----> 9\u001b[0m     \u001b[38;5;28mprint\u001b[39m(name,phone[name])\n\u001b[0;32m     10\u001b[0m \u001b[38;5;28;01melse\u001b[39;00m:\n\u001b[0;32m     11\u001b[0m     \u001b[38;5;28mprint\u001b[39m(\u001b[38;5;124m\"\u001b[39m\u001b[38;5;124mNot found\u001b[39m\u001b[38;5;124m\"\u001b[39m)\n",
      "\u001b[1;31mKeyError\u001b[0m: 'ram'"
     ]
    }
   ],
   "source": [
    "phone = {}\n",
    "n = int(input())\n",
    "for _ in range(n):\n",
    "    ent = input().split()\n",
    "    phone[ent[0]] = ent[1]\n",
    "while True:\n",
    "    name = input().strip()\n",
    "    if name:\n",
    "        print(name,phone[name])\n",
    "    else:\n",
    "        print(\"Not found\")"
   ]
  },
  {
   "cell_type": "code",
   "execution_count": null,
   "id": "251f3826",
   "metadata": {},
   "outputs": [],
   "source": []
  },
  {
   "cell_type": "code",
   "execution_count": null,
   "id": "a87ab591",
   "metadata": {},
   "outputs": [],
   "source": []
  }
 ],
 "metadata": {
  "kernelspec": {
   "display_name": "Python 3 (ipykernel)",
   "language": "python",
   "name": "python3"
  },
  "language_info": {
   "codemirror_mode": {
    "name": "ipython",
    "version": 3
   },
   "file_extension": ".py",
   "mimetype": "text/x-python",
   "name": "python",
   "nbconvert_exporter": "python",
   "pygments_lexer": "ipython3",
   "version": "3.11.5"
  }
 },
 "nbformat": 4,
 "nbformat_minor": 5
}
